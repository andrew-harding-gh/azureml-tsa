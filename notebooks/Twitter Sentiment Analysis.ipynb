{
 "cells": [
  {
   "cell_type": "markdown",
   "metadata": {
    "_uuid": "92b885dd147dac19bd0a33db3cd0da100bd5bc23"
   },
   "source": [
    "# Twitter Sentiment Analysis"
   ]
  },
  {
   "cell_type": "code",
   "execution_count": 1,
   "metadata": {
    "_uuid": "303e72966af732ddef0bd8108a321095314e44af"
   },
   "outputs": [
    {
     "name": "stderr",
     "output_type": "stream",
     "text": [
      "Using TensorFlow backend.\n"
     ]
    }
   ],
   "source": [
    "# DataFrame\n",
    "import pandas as pd\n",
    "\n",
    "# Matplot\n",
    "import matplotlib.pyplot as plt\n",
    "%matplotlib inline\n",
    "\n",
    "# Scikit-learn\n",
    "from sklearn.model_selection import train_test_split\n",
    "from sklearn.preprocessing import LabelEncoder\n",
    "from sklearn.metrics import confusion_matrix, classification_report, accuracy_score\n",
    "from sklearn.manifold import TSNE\n",
    "from sklearn.feature_extraction.text import TfidfVectorizer\n",
    "\n",
    "# Keras\n",
    "from keras.preprocessing.text import Tokenizer\n",
    "from keras.preprocessing.sequence import pad_sequences\n",
    "from keras.models import Sequential\n",
    "from keras.layers import Activation, Dense, Dropout, Embedding, Flatten, Conv1D, MaxPooling1D, LSTM\n",
    "from keras import utils\n",
    "from keras.callbacks import ReduceLROnPlateau, EarlyStopping\n",
    "\n",
    "# nltk\n",
    "import nltk\n",
    "from nltk.corpus import stopwords\n",
    "from  nltk.stem import SnowballStemmer\n",
    "\n",
    "# Word2vec\n",
    "import gensim\n",
    "\n",
    "# Utility\n",
    "import re\n",
    "import numpy as np\n",
    "import os\n",
    "from collections import Counter\n",
    "import logging\n",
    "import time\n",
    "import pickle\n",
    "import itertools\n",
    "\n",
    "# Set log\n",
    "logging.basicConfig(format='%(asctime)s : %(levelname)s : %(message)s', level=logging.INFO)"
   ]
  },
  {
   "cell_type": "code",
   "execution_count": 2,
   "metadata": {
    "_uuid": "35e1a89dead5fd160e4c9a024a21d2e569fc89ff"
   },
   "outputs": [
    {
     "name": "stderr",
     "output_type": "stream",
     "text": [
      "[nltk_data] Downloading package stopwords to\n",
      "[nltk_data]     C:\\Users\\user\\AppData\\Roaming\\nltk_data...\n",
      "[nltk_data]   Package stopwords is already up-to-date!\n"
     ]
    },
    {
     "data": {
      "text/plain": [
       "True"
      ]
     },
     "execution_count": 2,
     "metadata": {},
     "output_type": "execute_result"
    }
   ],
   "source": [
    "nltk.download('stopwords')"
   ]
  },
  {
   "cell_type": "markdown",
   "metadata": {
    "_uuid": "e8b01a07df001e4abcc745900336c4db06e455f3"
   },
   "source": [
    "### Settings"
   ]
  },
  {
   "cell_type": "code",
   "execution_count": 3,
   "metadata": {
    "_uuid": "180f0dd2a95419e4602b5c0229822b0111c826f6"
   },
   "outputs": [],
   "source": [
    "# DATASET\n",
    "DATASET_COLUMNS = [\"target\", \"ids\", \"date\", \"flag\", \"user\", \"text\"]\n",
    "DATASET_ENCODING = \"ISO-8859-1\"\n",
    "TRAIN_SIZE = 0.8\n",
    "\n",
    "# TEXT CLENAING\n",
    "TEXT_CLEANING_RE = \"@\\S+|https?:\\S+|http?:\\S|[^A-Za-z0-9]+\"\n",
    "\n",
    "# WORD2VEC \n",
    "W2V_SIZE = 300\n",
    "W2V_WINDOW = 7\n",
    "W2V_EPOCH = 32\n",
    "W2V_MIN_COUNT = 10\n",
    "\n",
    "# KERAS\n",
    "SEQUENCE_LENGTH = 300\n",
    "EPOCHS = 8\n",
    "BATCH_SIZE = 1024\n",
    "\n",
    "# SENTIMENT\n",
    "POSITIVE = \"POSITIVE\"\n",
    "NEGATIVE = \"NEGATIVE\"\n",
    "NEUTRAL = \"NEUTRAL\"\n",
    "SENTIMENT_THRESHOLDS = (0.4, 0.7)\n",
    "\n",
    "# EXPORT\n",
    "KERAS_MODEL = \"model.h5\"\n",
    "WORD2VEC_MODEL = \"model.w2v\"\n",
    "TOKENIZER_MODEL = \"tokenizer.pkl\"\n",
    "ENCODER_MODEL = \"encoder.pkl\""
   ]
  },
  {
   "cell_type": "markdown",
   "metadata": {
    "_uuid": "1c3beecc618be68480b3d4f0de08d9d863da1dc1"
   },
   "source": [
    "### Read Dataset"
   ]
  },
  {
   "cell_type": "markdown",
   "metadata": {
    "_uuid": "563b3c44f1092dba0b853747b098e00509098cca"
   },
   "source": [
    "### Dataset details\n",
    "* **target**: the polarity of the tweet (0 = negative, 2 = neutral, 4 = positive)\n",
    "* **ids**: The id of the tweet ( 2087)\n",
    "* **date**: the date of the tweet (Sat May 16 23:58:44 UTC 2009)\n",
    "* **flag**: The query (lyx). If there is no query, then this value is NO_QUERY.\n",
    "* **user**: the user that tweeted (robotickilldozr)\n",
    "* **text**: the text of the tweet (Lyx is cool)"
   ]
  },
  {
   "cell_type": "code",
   "execution_count": 4,
   "metadata": {
    "_uuid": "bba8f91cd70de4f5ea0fb0870ae2029b6e3dcc24"
   },
   "outputs": [
    {
     "name": "stdout",
     "output_type": "stream",
     "text": [
      "Open file: ..\\data\\training.1600000.processed.noemoticon.csv\n"
     ]
    }
   ],
   "source": [
    "dataset_filename = os.listdir(\"../data/\")[0]\n",
    "dataset_path = os.path.join(\"..\",\"data\",dataset_filename)\n",
    "print(\"Open file:\", dataset_path)\n",
    "df = pd.read_csv(dataset_path, encoding =DATASET_ENCODING , names=DATASET_COLUMNS)"
   ]
  },
  {
   "cell_type": "code",
   "execution_count": 5,
   "metadata": {
    "_uuid": "936d499c00c4f1648bc16ca9d283c3b39be7fb10"
   },
   "outputs": [
    {
     "name": "stdout",
     "output_type": "stream",
     "text": [
      "Dataset size: 1600000\n"
     ]
    }
   ],
   "source": [
    "print(\"Dataset size:\", len(df))"
   ]
  },
  {
   "cell_type": "code",
   "execution_count": 6,
   "metadata": {
    "_uuid": "7486ed895b813c5246f97b31b6162b0f65ff763b"
   },
   "outputs": [
    {
     "data": {
      "text/html": [
       "<div>\n",
       "<style scoped>\n",
       "    .dataframe tbody tr th:only-of-type {\n",
       "        vertical-align: middle;\n",
       "    }\n",
       "\n",
       "    .dataframe tbody tr th {\n",
       "        vertical-align: top;\n",
       "    }\n",
       "\n",
       "    .dataframe thead th {\n",
       "        text-align: right;\n",
       "    }\n",
       "</style>\n",
       "<table border=\"1\" class=\"dataframe\">\n",
       "  <thead>\n",
       "    <tr style=\"text-align: right;\">\n",
       "      <th></th>\n",
       "      <th>target</th>\n",
       "      <th>ids</th>\n",
       "      <th>date</th>\n",
       "      <th>flag</th>\n",
       "      <th>user</th>\n",
       "      <th>text</th>\n",
       "    </tr>\n",
       "  </thead>\n",
       "  <tbody>\n",
       "    <tr>\n",
       "      <th>0</th>\n",
       "      <td>0</td>\n",
       "      <td>1467810369</td>\n",
       "      <td>Mon Apr 06 22:19:45 PDT 2009</td>\n",
       "      <td>NO_QUERY</td>\n",
       "      <td>_TheSpecialOne_</td>\n",
       "      <td>@switchfoot http://twitpic.com/2y1zl - Awww, t...</td>\n",
       "    </tr>\n",
       "    <tr>\n",
       "      <th>1</th>\n",
       "      <td>0</td>\n",
       "      <td>1467810672</td>\n",
       "      <td>Mon Apr 06 22:19:49 PDT 2009</td>\n",
       "      <td>NO_QUERY</td>\n",
       "      <td>scotthamilton</td>\n",
       "      <td>is upset that he can't update his Facebook by ...</td>\n",
       "    </tr>\n",
       "    <tr>\n",
       "      <th>2</th>\n",
       "      <td>0</td>\n",
       "      <td>1467810917</td>\n",
       "      <td>Mon Apr 06 22:19:53 PDT 2009</td>\n",
       "      <td>NO_QUERY</td>\n",
       "      <td>mattycus</td>\n",
       "      <td>@Kenichan I dived many times for the ball. Man...</td>\n",
       "    </tr>\n",
       "    <tr>\n",
       "      <th>3</th>\n",
       "      <td>0</td>\n",
       "      <td>1467811184</td>\n",
       "      <td>Mon Apr 06 22:19:57 PDT 2009</td>\n",
       "      <td>NO_QUERY</td>\n",
       "      <td>ElleCTF</td>\n",
       "      <td>my whole body feels itchy and like its on fire</td>\n",
       "    </tr>\n",
       "    <tr>\n",
       "      <th>4</th>\n",
       "      <td>0</td>\n",
       "      <td>1467811193</td>\n",
       "      <td>Mon Apr 06 22:19:57 PDT 2009</td>\n",
       "      <td>NO_QUERY</td>\n",
       "      <td>Karoli</td>\n",
       "      <td>@nationwideclass no, it's not behaving at all....</td>\n",
       "    </tr>\n",
       "  </tbody>\n",
       "</table>\n",
       "</div>"
      ],
      "text/plain": [
       "   target         ids                          date      flag  \\\n",
       "0       0  1467810369  Mon Apr 06 22:19:45 PDT 2009  NO_QUERY   \n",
       "1       0  1467810672  Mon Apr 06 22:19:49 PDT 2009  NO_QUERY   \n",
       "2       0  1467810917  Mon Apr 06 22:19:53 PDT 2009  NO_QUERY   \n",
       "3       0  1467811184  Mon Apr 06 22:19:57 PDT 2009  NO_QUERY   \n",
       "4       0  1467811193  Mon Apr 06 22:19:57 PDT 2009  NO_QUERY   \n",
       "\n",
       "              user                                               text  \n",
       "0  _TheSpecialOne_  @switchfoot http://twitpic.com/2y1zl - Awww, t...  \n",
       "1    scotthamilton  is upset that he can't update his Facebook by ...  \n",
       "2         mattycus  @Kenichan I dived many times for the ball. Man...  \n",
       "3          ElleCTF    my whole body feels itchy and like its on fire   \n",
       "4           Karoli  @nationwideclass no, it's not behaving at all....  "
      ]
     },
     "execution_count": 6,
     "metadata": {},
     "output_type": "execute_result"
    }
   ],
   "source": [
    "df.head(5)"
   ]
  },
  {
   "cell_type": "markdown",
   "metadata": {
    "_uuid": "3f9a7bb129e184967b13261fb5d253af451c75c5"
   },
   "source": [
    "### Map target label to String\n",
    "* **0** -> **NEGATIVE**\n",
    "* **2** -> **NEUTRAL**\n",
    "* **4** -> **POSITIVE**"
   ]
  },
  {
   "cell_type": "code",
   "execution_count": 7,
   "metadata": {
    "_uuid": "14074b59106cb9550440839e48b832223fc9502f"
   },
   "outputs": [],
   "source": [
    "decode_map = {0: \"NEGATIVE\", 2: \"NEUTRAL\", 4: \"POSITIVE\"}\n",
    "def decode_sentiment(label):\n",
    "    return decode_map[int(label)]"
   ]
  },
  {
   "cell_type": "code",
   "execution_count": 8,
   "metadata": {
    "_uuid": "4449d473187f647a195a6ac6986b009da32a7f4b"
   },
   "outputs": [
    {
     "name": "stdout",
     "output_type": "stream",
     "text": [
      "Wall time: 482 ms\n"
     ]
    }
   ],
   "source": [
    "%%time\n",
    "df.target = df.target.apply(lambda x: decode_sentiment(x))"
   ]
  },
  {
   "cell_type": "code",
   "execution_count": 9,
   "metadata": {
    "_uuid": "19eb327803192f31cce3512aacb232f4d6b38715"
   },
   "outputs": [
    {
     "data": {
      "text/plain": [
       "Text(0.5, 1.0, 'Dataset labels distribuition')"
      ]
     },
     "execution_count": 9,
     "metadata": {},
     "output_type": "execute_result"
    },
    {
     "data": {
      "image/png": "[encoded data removed]",
      "text/plain": [
       "<Figure size 1152x576 with 1 Axes>"
      ]
     },
     "metadata": {
      "needs_background": "light"
     },
     "output_type": "display_data"
    }
   ],
   "source": [
    "target_cnt = Counter(df.target)\n",
    "\n",
    "plt.figure(figsize=(16,8))\n",
    "plt.bar(target_cnt.keys(), target_cnt.values())\n",
    "plt.title(\"Dataset labels distribuition\")"
   ]
  },
  {
   "cell_type": "markdown",
   "metadata": {
    "_uuid": "4329b1573518b03e497213efa7676220734ebb4b"
   },
   "source": [
    "### Pre-Process dataset"
   ]
  },
  {
   "cell_type": "code",
   "execution_count": 10,
   "metadata": {
    "_uuid": "8aeee8b7b9ea11b749c7f91cd4787a7b50ed1a91"
   },
   "outputs": [],
   "source": [
    "stop_words = stopwords.words(\"english\")\n",
    "stemmer = SnowballStemmer(\"english\")"
   ]
  },
  {
   "cell_type": "code",
   "execution_count": 11,
   "metadata": {
    "_uuid": "649ebcb97969b9ac4301138783704bb3d7846a49"
   },
   "outputs": [],
   "source": [
    "def preprocess(text, stem=False):\n",
    "    # Remove link,user and special characters\n",
    "    text = re.sub(TEXT_CLEANING_RE, ' ', str(text).lower()).strip()\n",
    "    tokens = []\n",
    "    for token in text.split():\n",
    "        if token not in stop_words:\n",
    "            if stem:\n",
    "                tokens.append(stemmer.stem(token))\n",
    "            else:\n",
    "                tokens.append(token)\n",
    "    return \" \".join(tokens)"
   ]
  },
  {
   "cell_type": "code",
   "execution_count": 12,
   "metadata": {
    "_uuid": "f7f3e77ab9291d14687c49e71ba9b2b1e3323432"
   },
   "outputs": [
    {
     "name": "stdout",
     "output_type": "stream",
     "text": [
      "Wall time: 38.1 s\n"
     ]
    }
   ],
   "source": [
    "%%time\n",
    "df.text = df.text.apply(lambda x: preprocess(x))"
   ]
  },
  {
   "cell_type": "markdown",
   "metadata": {
    "_uuid": "f5f9714a8507409bbe780eebf2855a33e8e6ba37"
   },
   "source": [
    "### Split train and test"
   ]
  },
  {
   "cell_type": "code",
   "execution_count": 13,
   "metadata": {
    "_uuid": "d2b1179c968e3f3910c790ecf0c5b2cbb34b0e68"
   },
   "outputs": [
    {
     "name": "stdout",
     "output_type": "stream",
     "text": [
      "TRAIN size: 1280000\n",
      "TEST size: 320000\n"
     ]
    }
   ],
   "source": [
    "df_train, df_test = train_test_split(df, test_size=1-TRAIN_SIZE, random_state=42)\n",
    "print(\"TRAIN size:\", len(df_train))\n",
    "print(\"TEST size:\", len(df_test))"
   ]
  },
  {
   "cell_type": "markdown",
   "metadata": {
    "_uuid": "f08a28aab2c3d16d8b9681a7d5d07587153a1cd6"
   },
   "source": [
    "### Word2Vec "
   ]
  },
  {
   "cell_type": "code",
   "execution_count": 14,
   "metadata": {
    "_uuid": "2461bf564de1b4414841933d0c1d1bee5f5cc5a6"
   },
   "outputs": [
    {
     "name": "stdout",
     "output_type": "stream",
     "text": [
      "Wall time: 2.18 s\n"
     ]
    }
   ],
   "source": [
    "%%time\n",
    "documents = [_text.split() for _text in df_train.text] "
   ]
  },
  {
   "cell_type": "code",
   "execution_count": 15,
   "metadata": {
    "_uuid": "8e19b9f25801ba86420decc266d2b3e6fb44f1ea"
   },
   "outputs": [],
   "source": [
    "w2v_model = gensim.models.word2vec.Word2Vec(size=W2V_SIZE, \n",
    "                                            window=W2V_WINDOW, \n",
    "                                            min_count=W2V_MIN_COUNT, \n",
    "                                            workers=8)"
   ]
  },
  {
   "cell_type": "code",
   "execution_count": 16,
   "metadata": {
    "_uuid": "58d655af07653c594bec6bebcfb302a973b0ad9c"
   },
   "outputs": [
    {
     "name": "stderr",
     "output_type": "stream",
     "text": [
      "2020-05-29 14:13:39,015 : INFO : collecting all words and their counts\n",
      "2020-05-29 14:13:39,016 : INFO : PROGRESS: at sentence #0, processed 0 words, keeping 0 word types\n",
      "2020-05-29 14:13:39,029 : INFO : PROGRESS: at sentence #10000, processed 72565 words, keeping 14005 word types\n",
      "2020-05-29 14:13:39,044 : INFO : PROGRESS: at sentence #20000, processed 144393 words, keeping 21587 word types\n",
      "2020-05-29 14:13:39,060 : INFO : PROGRESS: at sentence #30000, processed 215826 words, keeping 27541 word types\n",
      "2020-05-29 14:13:39,076 : INFO : PROGRESS: at sentence #40000, processed 288271 words, keeping 32764 word types\n",
      "2020-05-29 14:13:39,091 : INFO : PROGRESS: at sentence #50000, processed 359772 words, keeping 37587 word types\n",
      "2020-05-29 14:13:39,107 : INFO : PROGRESS: at sentence #60000, processed 431431 words, keeping 42198 word types\n",
      "2020-05-29 14:13:39,126 : INFO : PROGRESS: at sentence #70000, processed 503103 words, keeping 46458 word types\n",
      "2020-05-29 14:13:39,141 : INFO : PROGRESS: at sentence #80000, processed 575709 words, keeping 50476 word types\n",
      "2020-05-29 14:13:39,156 : INFO : PROGRESS: at sentence #90000, processed 647100 words, keeping 54140 word types\n",
      "2020-05-29 14:13:39,173 : INFO : PROGRESS: at sentence #100000, processed 718681 words, keeping 57777 word types\n",
      "2020-05-29 14:13:39,188 : INFO : PROGRESS: at sentence #110000, processed 790696 words, keeping 61207 word types\n",
      "2020-05-29 14:13:39,205 : INFO : PROGRESS: at sentence #120000, processed 863134 words, keeping 64583 word types\n",
      "2020-05-29 14:13:39,222 : INFO : PROGRESS: at sentence #130000, processed 935111 words, keeping 67865 word types\n",
      "2020-05-29 14:13:39,237 : INFO : PROGRESS: at sentence #140000, processed 1006668 words, keeping 70966 word types\n",
      "2020-05-29 14:13:39,255 : INFO : PROGRESS: at sentence #150000, processed 1078512 words, keeping 74119 word types\n",
      "2020-05-29 14:13:39,271 : INFO : PROGRESS: at sentence #160000, processed 1149914 words, keeping 77187 word types\n",
      "2020-05-29 14:13:39,286 : INFO : PROGRESS: at sentence #170000, processed 1222145 words, keeping 80267 word types\n",
      "2020-05-29 14:13:39,303 : INFO : PROGRESS: at sentence #180000, processed 1294708 words, keeping 83393 word types\n",
      "2020-05-29 14:13:39,319 : INFO : PROGRESS: at sentence #190000, processed 1367608 words, keeping 86329 word types\n",
      "2020-05-29 14:13:39,336 : INFO : PROGRESS: at sentence #200000, processed 1439469 words, keeping 89103 word types\n",
      "2020-05-29 14:13:39,353 : INFO : PROGRESS: at sentence #210000, processed 1512099 words, keeping 91840 word types\n",
      "2020-05-29 14:13:39,367 : INFO : PROGRESS: at sentence #220000, processed 1584149 words, keeping 94636 word types\n",
      "2020-05-29 14:13:39,384 : INFO : PROGRESS: at sentence #230000, processed 1656354 words, keeping 97353 word types\n",
      "2020-05-29 14:13:39,400 : INFO : PROGRESS: at sentence #240000, processed 1728573 words, keeping 99975 word types\n",
      "2020-05-29 14:13:39,417 : INFO : PROGRESS: at sentence #250000, processed 1801102 words, keeping 102594 word types\n",
      "2020-05-29 14:13:39,433 : INFO : PROGRESS: at sentence #260000, processed 1873103 words, keeping 105162 word types\n",
      "2020-05-29 14:13:39,447 : INFO : PROGRESS: at sentence #270000, processed 1945245 words, keeping 107626 word types\n",
      "2020-05-29 14:13:39,462 : INFO : PROGRESS: at sentence #280000, processed 2017163 words, keeping 110141 word types\n",
      "2020-05-29 14:13:39,480 : INFO : PROGRESS: at sentence #290000, processed 2089574 words, keeping 112539 word types\n",
      "2020-05-29 14:13:39,495 : INFO : PROGRESS: at sentence #300000, processed 2160996 words, keeping 114893 word types\n",
      "2020-05-29 14:13:39,510 : INFO : PROGRESS: at sentence #310000, processed 2232913 words, keeping 117298 word types\n",
      "2020-05-29 14:13:39,526 : INFO : PROGRESS: at sentence #320000, processed 2305039 words, keeping 119693 word types\n",
      "2020-05-29 14:13:39,542 : INFO : PROGRESS: at sentence #330000, processed 2377119 words, keeping 122131 word types\n",
      "2020-05-29 14:13:39,561 : INFO : PROGRESS: at sentence #340000, processed 2449370 words, keeping 124416 word types\n",
      "2020-05-29 14:13:39,577 : INFO : PROGRESS: at sentence #350000, processed 2521564 words, keeping 126669 word types\n",
      "2020-05-29 14:13:39,592 : INFO : PROGRESS: at sentence #360000, processed 2593681 words, keeping 128912 word types\n",
      "2020-05-29 14:13:39,608 : INFO : PROGRESS: at sentence #370000, processed 2665692 words, keeping 131135 word types\n",
      "2020-05-29 14:13:39,625 : INFO : PROGRESS: at sentence #380000, processed 2737859 words, keeping 133403 word types\n",
      "2020-05-29 14:13:39,643 : INFO : PROGRESS: at sentence #390000, processed 2809848 words, keeping 135551 word types\n",
      "2020-05-29 14:13:39,659 : INFO : PROGRESS: at sentence #400000, processed 2882438 words, keeping 137742 word types\n",
      "2020-05-29 14:13:39,676 : INFO : PROGRESS: at sentence #410000, processed 2954075 words, keeping 139909 word types\n",
      "2020-05-29 14:13:39,692 : INFO : PROGRESS: at sentence #420000, processed 3026247 words, keeping 142144 word types\n",
      "2020-05-29 14:13:39,707 : INFO : PROGRESS: at sentence #430000, processed 3098659 words, keeping 144364 word types\n",
      "2020-05-29 14:13:39,722 : INFO : PROGRESS: at sentence #440000, processed 3170663 words, keeping 146439 word types\n",
      "2020-05-29 14:13:39,739 : INFO : PROGRESS: at sentence #450000, processed 3243344 words, keeping 148526 word types\n",
      "2020-05-29 14:13:39,754 : INFO : PROGRESS: at sentence #460000, processed 3315466 words, keeping 150610 word types\n",
      "2020-05-29 14:13:39,771 : INFO : PROGRESS: at sentence #470000, processed 3388295 words, keeping 152737 word types\n",
      "2020-05-29 14:13:39,789 : INFO : PROGRESS: at sentence #480000, processed 3460120 words, keeping 154757 word types\n",
      "2020-05-29 14:13:39,807 : INFO : PROGRESS: at sentence #490000, processed 3531883 words, keeping 156825 word types\n",
      "2020-05-29 14:13:39,825 : INFO : PROGRESS: at sentence #500000, processed 3604217 words, keeping 158859 word types\n",
      "2020-05-29 14:13:39,843 : INFO : PROGRESS: at sentence #510000, processed 3676427 words, keeping 160852 word types\n",
      "2020-05-29 14:13:39,860 : INFO : PROGRESS: at sentence #520000, processed 3749045 words, keeping 162863 word types\n",
      "2020-05-29 14:13:39,878 : INFO : PROGRESS: at sentence #530000, processed 3821622 words, keeping 164929 word types\n",
      "2020-05-29 14:13:39,897 : INFO : PROGRESS: at sentence #540000, processed 3893627 words, keeping 166840 word types\n",
      "2020-05-29 14:13:39,914 : INFO : PROGRESS: at sentence #550000, processed 3965477 words, keeping 168799 word types\n",
      "2020-05-29 14:13:39,935 : INFO : PROGRESS: at sentence #560000, processed 4038050 words, keeping 170802 word types\n",
      "2020-05-29 14:13:39,951 : INFO : PROGRESS: at sentence #570000, processed 4110296 words, keeping 172760 word types\n",
      "2020-05-29 14:13:39,968 : INFO : PROGRESS: at sentence #580000, processed 4182385 words, keeping 174635 word types\n",
      "2020-05-29 14:13:39,994 : INFO : PROGRESS: at sentence #590000, processed 4254632 words, keeping 176470 word types\n",
      "2020-05-29 14:13:40,010 : INFO : PROGRESS: at sentence #600000, processed 4326859 words, keeping 178350 word types\n",
      "2020-05-29 14:13:40,027 : INFO : PROGRESS: at sentence #610000, processed 4399183 words, keeping 180290 word types\n",
      "2020-05-29 14:13:40,043 : INFO : PROGRESS: at sentence #620000, processed 4471343 words, keeping 182129 word types\n",
      "2020-05-29 14:13:40,061 : INFO : PROGRESS: at sentence #630000, processed 4543286 words, keeping 184005 word types\n",
      "2020-05-29 14:13:40,077 : INFO : PROGRESS: at sentence #640000, processed 4615780 words, keeping 185835 word types\n",
      "2020-05-29 14:13:40,096 : INFO : PROGRESS: at sentence #650000, processed 4688481 words, keeping 187705 word types\n",
      "2020-05-29 14:13:40,113 : INFO : PROGRESS: at sentence #660000, processed 4760481 words, keeping 189439 word types\n",
      "2020-05-29 14:13:40,132 : INFO : PROGRESS: at sentence #670000, processed 4833024 words, keeping 191232 word types\n",
      "2020-05-29 14:13:40,150 : INFO : PROGRESS: at sentence #680000, processed 4904516 words, keeping 193177 word types\n",
      "2020-05-29 14:13:40,166 : INFO : PROGRESS: at sentence #690000, processed 4976968 words, keeping 194960 word types\n",
      "2020-05-29 14:13:40,182 : INFO : PROGRESS: at sentence #700000, processed 5049412 words, keeping 196725 word types\n",
      "2020-05-29 14:13:40,199 : INFO : PROGRESS: at sentence #710000, processed 5121976 words, keeping 198516 word types\n"
     ]
    },
    {
     "name": "stderr",
     "output_type": "stream",
     "text": [
      "2020-05-29 14:13:40,215 : INFO : PROGRESS: at sentence #720000, processed 5193881 words, keeping 200325 word types\n",
      "2020-05-29 14:13:40,232 : INFO : PROGRESS: at sentence #730000, processed 5265467 words, keeping 202133 word types\n",
      "2020-05-29 14:13:40,249 : INFO : PROGRESS: at sentence #740000, processed 5337518 words, keeping 203818 word types\n",
      "2020-05-29 14:13:40,265 : INFO : PROGRESS: at sentence #750000, processed 5409321 words, keeping 205535 word types\n",
      "2020-05-29 14:13:40,281 : INFO : PROGRESS: at sentence #760000, processed 5481512 words, keeping 207282 word types\n",
      "2020-05-29 14:13:40,297 : INFO : PROGRESS: at sentence #770000, processed 5554093 words, keeping 209076 word types\n",
      "2020-05-29 14:13:40,317 : INFO : PROGRESS: at sentence #780000, processed 5625382 words, keeping 210805 word types\n",
      "2020-05-29 14:13:40,334 : INFO : PROGRESS: at sentence #790000, processed 5698066 words, keeping 212618 word types\n",
      "2020-05-29 14:13:40,351 : INFO : PROGRESS: at sentence #800000, processed 5770880 words, keeping 214374 word types\n",
      "2020-05-29 14:13:40,367 : INFO : PROGRESS: at sentence #810000, processed 5843418 words, keeping 216009 word types\n",
      "2020-05-29 14:13:40,383 : INFO : PROGRESS: at sentence #820000, processed 5915628 words, keeping 217804 word types\n",
      "2020-05-29 14:13:40,400 : INFO : PROGRESS: at sentence #830000, processed 5987499 words, keeping 219585 word types\n",
      "2020-05-29 14:13:40,416 : INFO : PROGRESS: at sentence #840000, processed 6058973 words, keeping 221344 word types\n",
      "2020-05-29 14:13:40,432 : INFO : PROGRESS: at sentence #850000, processed 6131125 words, keeping 223002 word types\n",
      "2020-05-29 14:13:40,448 : INFO : PROGRESS: at sentence #860000, processed 6202951 words, keeping 224643 word types\n",
      "2020-05-29 14:13:40,465 : INFO : PROGRESS: at sentence #870000, processed 6275461 words, keeping 226362 word types\n",
      "2020-05-29 14:13:40,481 : INFO : PROGRESS: at sentence #880000, processed 6347661 words, keeping 227986 word types\n",
      "2020-05-29 14:13:40,498 : INFO : PROGRESS: at sentence #890000, processed 6419806 words, keeping 229634 word types\n",
      "2020-05-29 14:13:40,516 : INFO : PROGRESS: at sentence #900000, processed 6491644 words, keeping 231389 word types\n",
      "2020-05-29 14:13:40,532 : INFO : PROGRESS: at sentence #910000, processed 6564022 words, keeping 233050 word types\n",
      "2020-05-29 14:13:40,548 : INFO : PROGRESS: at sentence #920000, processed 6636228 words, keeping 234686 word types\n",
      "2020-05-29 14:13:40,565 : INFO : PROGRESS: at sentence #930000, processed 6708573 words, keeping 236393 word types\n",
      "2020-05-29 14:13:40,580 : INFO : PROGRESS: at sentence #940000, processed 6779956 words, keeping 238052 word types\n",
      "2020-05-29 14:13:40,598 : INFO : PROGRESS: at sentence #950000, processed 6852599 words, keeping 239716 word types\n",
      "2020-05-29 14:13:40,614 : INFO : PROGRESS: at sentence #960000, processed 6924717 words, keeping 241354 word types\n",
      "2020-05-29 14:13:40,635 : INFO : PROGRESS: at sentence #970000, processed 6996992 words, keeping 242980 word types\n",
      "2020-05-29 14:13:40,651 : INFO : PROGRESS: at sentence #980000, processed 7068402 words, keeping 244646 word types\n",
      "2020-05-29 14:13:40,669 : INFO : PROGRESS: at sentence #990000, processed 7140346 words, keeping 246186 word types\n",
      "2020-05-29 14:13:40,685 : INFO : PROGRESS: at sentence #1000000, processed 7211757 words, keeping 247726 word types\n",
      "2020-05-29 14:13:40,702 : INFO : PROGRESS: at sentence #1010000, processed 7283267 words, keeping 249288 word types\n",
      "2020-05-29 14:13:40,720 : INFO : PROGRESS: at sentence #1020000, processed 7355299 words, keeping 250860 word types\n",
      "2020-05-29 14:13:40,736 : INFO : PROGRESS: at sentence #1030000, processed 7426918 words, keeping 252366 word types\n",
      "2020-05-29 14:13:40,753 : INFO : PROGRESS: at sentence #1040000, processed 7498815 words, keeping 253930 word types\n",
      "2020-05-29 14:13:40,770 : INFO : PROGRESS: at sentence #1050000, processed 7570499 words, keeping 255471 word types\n",
      "2020-05-29 14:13:40,786 : INFO : PROGRESS: at sentence #1060000, processed 7643251 words, keeping 257035 word types\n",
      "2020-05-29 14:13:40,802 : INFO : PROGRESS: at sentence #1070000, processed 7714721 words, keeping 258509 word types\n",
      "2020-05-29 14:13:40,820 : INFO : PROGRESS: at sentence #1080000, processed 7787371 words, keeping 260071 word types\n",
      "2020-05-29 14:13:40,835 : INFO : PROGRESS: at sentence #1090000, processed 7859336 words, keeping 261683 word types\n",
      "2020-05-29 14:13:40,852 : INFO : PROGRESS: at sentence #1100000, processed 7932029 words, keeping 263278 word types\n",
      "2020-05-29 14:13:40,868 : INFO : PROGRESS: at sentence #1110000, processed 8004146 words, keeping 264800 word types\n",
      "2020-05-29 14:13:40,888 : INFO : PROGRESS: at sentence #1120000, processed 8075880 words, keeping 266309 word types\n",
      "2020-05-29 14:13:40,905 : INFO : PROGRESS: at sentence #1130000, processed 8148163 words, keeping 267826 word types\n",
      "2020-05-29 14:13:40,922 : INFO : PROGRESS: at sentence #1140000, processed 8220487 words, keeping 269391 word types\n",
      "2020-05-29 14:13:40,938 : INFO : PROGRESS: at sentence #1150000, processed 8292498 words, keeping 270894 word types\n",
      "2020-05-29 14:13:40,954 : INFO : PROGRESS: at sentence #1160000, processed 8363838 words, keeping 272400 word types\n",
      "2020-05-29 14:13:40,971 : INFO : PROGRESS: at sentence #1170000, processed 8435510 words, keeping 273970 word types\n",
      "2020-05-29 14:13:40,989 : INFO : PROGRESS: at sentence #1180000, processed 8507795 words, keeping 275521 word types\n",
      "2020-05-29 14:13:41,005 : INFO : PROGRESS: at sentence #1190000, processed 8579080 words, keeping 277007 word types\n",
      "2020-05-29 14:13:41,022 : INFO : PROGRESS: at sentence #1200000, processed 8650606 words, keeping 278457 word types\n",
      "2020-05-29 14:13:41,038 : INFO : PROGRESS: at sentence #1210000, processed 8721893 words, keeping 279959 word types\n",
      "2020-05-29 14:13:41,056 : INFO : PROGRESS: at sentence #1220000, processed 8793795 words, keeping 281427 word types\n",
      "2020-05-29 14:13:41,073 : INFO : PROGRESS: at sentence #1230000, processed 8865726 words, keeping 282981 word types\n",
      "2020-05-29 14:13:41,089 : INFO : PROGRESS: at sentence #1240000, processed 8938173 words, keeping 284542 word types\n",
      "2020-05-29 14:13:41,106 : INFO : PROGRESS: at sentence #1250000, processed 9010842 words, keeping 286064 word types\n",
      "2020-05-29 14:13:41,123 : INFO : PROGRESS: at sentence #1260000, processed 9083261 words, keeping 287521 word types\n",
      "2020-05-29 14:13:41,140 : INFO : PROGRESS: at sentence #1270000, processed 9155616 words, keeping 288987 word types\n",
      "2020-05-29 14:13:41,157 : INFO : collected 290418 word types from a corpus of 9227204 raw words and 1280000 sentences\n",
      "2020-05-29 14:13:41,158 : INFO : Loading a fresh vocabulary\n",
      "2020-05-29 14:13:41,269 : INFO : effective_min_count=10 retains 30369 unique words (10% of original 290418, drops 260049)\n",
      "2020-05-29 14:13:41,269 : INFO : effective_min_count=10 leaves 8780739 word corpus (95% of original 9227204, drops 446465)\n",
      "2020-05-29 14:13:41,342 : INFO : deleting the raw counts dictionary of 290418 items\n",
      "2020-05-29 14:13:41,347 : INFO : sample=0.001 downsamples 45 most-common words\n",
      "2020-05-29 14:13:41,347 : INFO : downsampling leaves estimated 8222658 word corpus (93.6% of prior 8780739)\n",
      "2020-05-29 14:13:41,414 : INFO : estimated required memory for 30369 words and 300 dimensions: 88070100 bytes\n",
      "2020-05-29 14:13:41,414 : INFO : resetting layer weights\n"
     ]
    }
   ],
   "source": [
    "w2v_model.build_vocab(documents)"
   ]
  },
  {
   "cell_type": "code",
   "execution_count": 17,
   "metadata": {
    "_uuid": "72a5628ca81fd4b8983c12d93ae0bf950b86b6ae"
   },
   "outputs": [
    {
     "name": "stdout",
     "output_type": "stream",
     "text": [
      "Vocab size 30369\n"
     ]
    }
   ],
   "source": [
    "words = w2v_model.wv.vocab.keys()\n",
    "vocab_size = len(words)\n",
    "print(\"Vocab size\", vocab_size)"
   ]
  },
  {
   "cell_type": "code",
   "execution_count": 18,
   "metadata": {
    "_uuid": "68c3e4a5ba07cac3dee67f78ecdd1404c7f83f14"
   },
   "outputs": [
    {
     "name": "stderr",
     "output_type": "stream",
     "text": [
      "2020-05-29 14:13:45,883 : INFO : training model with 8 workers on 30369 vocabulary and 300 features, using sg=0 hs=0 sample=0.001 negative=5 window=7\n",
      "2020-05-29 14:13:46,914 : INFO : EPOCH 1 - PROGRESS: at 15.84% examples, 1276122 words/s, in_qsize 15, out_qsize 0\n",
      "2020-05-29 14:13:47,915 : INFO : EPOCH 1 - PROGRESS: at 32.73% examples, 1332011 words/s, in_qsize 15, out_qsize 0\n",
      "2020-05-29 14:13:48,920 : INFO : EPOCH 1 - PROGRESS: at 50.13% examples, 1363585 words/s, in_qsize 14, out_qsize 1\n",
      "2020-05-29 14:13:49,928 : INFO : EPOCH 1 - PROGRESS: at 67.99% examples, 1386848 words/s, in_qsize 15, out_qsize 0\n",
      "2020-05-29 14:13:50,933 : INFO : EPOCH 1 - PROGRESS: at 85.23% examples, 1391595 words/s, in_qsize 12, out_qsize 3\n",
      "2020-05-29 14:13:51,734 : INFO : worker thread finished; awaiting finish of 7 more threads\n",
      "2020-05-29 14:13:51,738 : INFO : worker thread finished; awaiting finish of 6 more threads\n",
      "2020-05-29 14:13:51,741 : INFO : worker thread finished; awaiting finish of 5 more threads\n",
      "2020-05-29 14:13:51,745 : INFO : worker thread finished; awaiting finish of 4 more threads\n",
      "2020-05-29 14:13:51,749 : INFO : worker thread finished; awaiting finish of 3 more threads\n",
      "2020-05-29 14:13:51,752 : INFO : worker thread finished; awaiting finish of 2 more threads\n",
      "2020-05-29 14:13:51,759 : INFO : worker thread finished; awaiting finish of 1 more threads\n",
      "2020-05-29 14:13:51,762 : INFO : worker thread finished; awaiting finish of 0 more threads\n",
      "2020-05-29 14:13:51,762 : INFO : EPOCH - 1 : training on 9227204 raw words (8221997 effective words) took 5.9s, 1401310 effective words/s\n",
      "2020-05-29 14:13:52,775 : INFO : EPOCH 2 - PROGRESS: at 17.13% examples, 1406260 words/s, in_qsize 14, out_qsize 1\n",
      "2020-05-29 14:13:53,779 : INFO : EPOCH 2 - PROGRESS: at 34.57% examples, 1417525 words/s, in_qsize 15, out_qsize 0\n",
      "2020-05-29 14:13:54,787 : INFO : EPOCH 2 - PROGRESS: at 51.86% examples, 1416125 words/s, in_qsize 14, out_qsize 1\n",
      "2020-05-29 14:13:55,790 : INFO : EPOCH 2 - PROGRESS: at 69.72% examples, 1428825 words/s, in_qsize 15, out_qsize 0\n",
      "2020-05-29 14:13:56,795 : INFO : EPOCH 2 - PROGRESS: at 87.29% examples, 1430115 words/s, in_qsize 14, out_qsize 1\n",
      "2020-05-29 14:13:57,466 : INFO : worker thread finished; awaiting finish of 7 more threads\n",
      "2020-05-29 14:13:57,470 : INFO : worker thread finished; awaiting finish of 6 more threads\n",
      "2020-05-29 14:13:57,471 : INFO : worker thread finished; awaiting finish of 5 more threads\n",
      "2020-05-29 14:13:57,473 : INFO : worker thread finished; awaiting finish of 4 more threads\n",
      "2020-05-29 14:13:57,474 : INFO : worker thread finished; awaiting finish of 3 more threads\n",
      "2020-05-29 14:13:57,490 : INFO : worker thread finished; awaiting finish of 2 more threads\n",
      "2020-05-29 14:13:57,491 : INFO : worker thread finished; awaiting finish of 1 more threads\n",
      "2020-05-29 14:13:57,492 : INFO : worker thread finished; awaiting finish of 0 more threads\n",
      "2020-05-29 14:13:57,492 : INFO : EPOCH - 2 : training on 9227204 raw words (8221259 effective words) took 5.7s, 1437963 effective words/s\n",
      "2020-05-29 14:13:58,513 : INFO : EPOCH 3 - PROGRESS: at 17.13% examples, 1393716 words/s, in_qsize 15, out_qsize 0\n",
      "2020-05-29 14:13:59,530 : INFO : EPOCH 3 - PROGRESS: at 34.89% examples, 1415462 words/s, in_qsize 15, out_qsize 0\n",
      "2020-05-29 14:14:00,539 : INFO : EPOCH 3 - PROGRESS: at 52.51% examples, 1422945 words/s, in_qsize 14, out_qsize 1\n",
      "2020-05-29 14:14:01,559 : INFO : EPOCH 3 - PROGRESS: at 70.48% examples, 1430026 words/s, in_qsize 15, out_qsize 0\n",
      "2020-05-29 14:14:02,560 : INFO : EPOCH 3 - PROGRESS: at 88.05% examples, 1432073 words/s, in_qsize 15, out_qsize 0\n",
      "2020-05-29 14:14:03,187 : INFO : worker thread finished; awaiting finish of 7 more threads\n",
      "2020-05-29 14:14:03,197 : INFO : worker thread finished; awaiting finish of 6 more threads\n",
      "2020-05-29 14:14:03,200 : INFO : worker thread finished; awaiting finish of 5 more threads\n",
      "2020-05-29 14:14:03,201 : INFO : worker thread finished; awaiting finish of 4 more threads\n",
      "2020-05-29 14:14:03,202 : INFO : worker thread finished; awaiting finish of 3 more threads\n",
      "2020-05-29 14:14:03,211 : INFO : worker thread finished; awaiting finish of 2 more threads\n",
      "2020-05-29 14:14:03,213 : INFO : worker thread finished; awaiting finish of 1 more threads\n",
      "2020-05-29 14:14:03,219 : INFO : worker thread finished; awaiting finish of 0 more threads\n",
      "2020-05-29 14:14:03,220 : INFO : EPOCH - 3 : training on 9227204 raw words (8222681 effective words) took 5.7s, 1438214 effective words/s\n",
      "2020-05-29 14:14:04,237 : INFO : EPOCH 4 - PROGRESS: at 17.02% examples, 1389948 words/s, in_qsize 15, out_qsize 0\n",
      "2020-05-29 14:14:05,254 : INFO : EPOCH 4 - PROGRESS: at 34.68% examples, 1409933 words/s, in_qsize 15, out_qsize 0\n",
      "2020-05-29 14:14:06,271 : INFO : EPOCH 4 - PROGRESS: at 52.18% examples, 1412662 words/s, in_qsize 13, out_qsize 2\n",
      "2020-05-29 14:14:07,284 : INFO : EPOCH 4 - PROGRESS: at 70.15% examples, 1424737 words/s, in_qsize 14, out_qsize 1\n",
      "2020-05-29 14:14:08,292 : INFO : EPOCH 4 - PROGRESS: at 88.05% examples, 1430975 words/s, in_qsize 13, out_qsize 2\n",
      "2020-05-29 14:14:08,926 : INFO : worker thread finished; awaiting finish of 7 more threads\n",
      "2020-05-29 14:14:08,929 : INFO : worker thread finished; awaiting finish of 6 more threads\n",
      "2020-05-29 14:14:08,933 : INFO : worker thread finished; awaiting finish of 5 more threads\n",
      "2020-05-29 14:14:08,934 : INFO : worker thread finished; awaiting finish of 4 more threads\n",
      "2020-05-29 14:14:08,935 : INFO : worker thread finished; awaiting finish of 3 more threads\n",
      "2020-05-29 14:14:08,936 : INFO : worker thread finished; awaiting finish of 2 more threads\n",
      "2020-05-29 14:14:08,948 : INFO : worker thread finished; awaiting finish of 1 more threads\n",
      "2020-05-29 14:14:08,950 : INFO : worker thread finished; awaiting finish of 0 more threads\n",
      "2020-05-29 14:14:08,950 : INFO : EPOCH - 4 : training on 9227204 raw words (8222293 effective words) took 5.7s, 1437837 effective words/s\n",
      "2020-05-29 14:14:09,962 : INFO : EPOCH 5 - PROGRESS: at 17.24% examples, 1415457 words/s, in_qsize 16, out_qsize 0\n",
      "2020-05-29 14:14:10,965 : INFO : EPOCH 5 - PROGRESS: at 34.57% examples, 1418431 words/s, in_qsize 16, out_qsize 0\n",
      "2020-05-29 14:14:11,969 : INFO : EPOCH 5 - PROGRESS: at 52.18% examples, 1427414 words/s, in_qsize 14, out_qsize 1\n",
      "2020-05-29 14:14:12,979 : INFO : EPOCH 5 - PROGRESS: at 70.05% examples, 1434687 words/s, in_qsize 15, out_qsize 0\n",
      "2020-05-29 14:14:13,982 : INFO : EPOCH 5 - PROGRESS: at 87.83% examples, 1439193 words/s, in_qsize 15, out_qsize 0\n",
      "2020-05-29 14:14:14,618 : INFO : worker thread finished; awaiting finish of 7 more threads\n",
      "2020-05-29 14:14:14,621 : INFO : worker thread finished; awaiting finish of 6 more threads\n",
      "2020-05-29 14:14:14,624 : INFO : worker thread finished; awaiting finish of 5 more threads\n",
      "2020-05-29 14:14:14,627 : INFO : worker thread finished; awaiting finish of 4 more threads\n",
      "2020-05-29 14:14:14,630 : INFO : worker thread finished; awaiting finish of 3 more threads\n",
      "2020-05-29 14:14:14,631 : INFO : worker thread finished; awaiting finish of 2 more threads\n",
      "2020-05-29 14:14:14,640 : INFO : worker thread finished; awaiting finish of 1 more threads\n",
      "2020-05-29 14:14:14,644 : INFO : worker thread finished; awaiting finish of 0 more threads\n",
      "2020-05-29 14:14:14,644 : INFO : EPOCH - 5 : training on 9227204 raw words (8222278 effective words) took 5.7s, 1446974 effective words/s\n",
      "2020-05-29 14:14:15,671 : INFO : EPOCH 6 - PROGRESS: at 17.68% examples, 1431070 words/s, in_qsize 14, out_qsize 1\n",
      "2020-05-29 14:14:16,682 : INFO : EPOCH 6 - PROGRESS: at 35.42% examples, 1438345 words/s, in_qsize 15, out_qsize 0\n",
      "2020-05-29 14:14:17,683 : INFO : EPOCH 6 - PROGRESS: at 53.05% examples, 1442291 words/s, in_qsize 14, out_qsize 1\n",
      "2020-05-29 14:14:18,684 : INFO : EPOCH 6 - PROGRESS: at 70.70% examples, 1444732 words/s, in_qsize 15, out_qsize 0\n",
      "2020-05-29 14:14:19,702 : INFO : EPOCH 6 - PROGRESS: at 88.48% examples, 1442652 words/s, in_qsize 14, out_qsize 1\n",
      "2020-05-29 14:14:20,304 : INFO : worker thread finished; awaiting finish of 7 more threads\n",
      "2020-05-29 14:14:20,323 : INFO : worker thread finished; awaiting finish of 6 more threads\n",
      "2020-05-29 14:14:20,325 : INFO : worker thread finished; awaiting finish of 5 more threads\n"
     ]
    },
    {
     "name": "stderr",
     "output_type": "stream",
     "text": [
      "2020-05-29 14:14:20,326 : INFO : worker thread finished; awaiting finish of 4 more threads\n",
      "2020-05-29 14:14:20,327 : INFO : worker thread finished; awaiting finish of 3 more threads\n",
      "2020-05-29 14:14:20,329 : INFO : worker thread finished; awaiting finish of 2 more threads\n",
      "2020-05-29 14:14:20,340 : INFO : worker thread finished; awaiting finish of 1 more threads\n",
      "2020-05-29 14:14:20,342 : INFO : worker thread finished; awaiting finish of 0 more threads\n",
      "2020-05-29 14:14:20,343 : INFO : EPOCH - 6 : training on 9227204 raw words (8223379 effective words) took 5.7s, 1446095 effective words/s\n",
      "2020-05-29 14:14:21,370 : INFO : EPOCH 7 - PROGRESS: at 17.13% examples, 1384561 words/s, in_qsize 15, out_qsize 0\n",
      "2020-05-29 14:14:22,374 : INFO : EPOCH 7 - PROGRESS: at 33.92% examples, 1379826 words/s, in_qsize 12, out_qsize 3\n",
      "2020-05-29 14:14:23,398 : INFO : EPOCH 7 - PROGRESS: at 51.54% examples, 1392608 words/s, in_qsize 14, out_qsize 3\n",
      "2020-05-29 14:14:24,401 : INFO : EPOCH 7 - PROGRESS: at 69.50% examples, 1412694 words/s, in_qsize 15, out_qsize 0\n",
      "2020-05-29 14:14:25,413 : INFO : EPOCH 7 - PROGRESS: at 86.75% examples, 1410129 words/s, in_qsize 15, out_qsize 0\n",
      "2020-05-29 14:14:26,164 : INFO : worker thread finished; awaiting finish of 7 more threads\n",
      "2020-05-29 14:14:26,173 : INFO : worker thread finished; awaiting finish of 6 more threads\n",
      "2020-05-29 14:14:26,175 : INFO : worker thread finished; awaiting finish of 5 more threads\n",
      "2020-05-29 14:14:26,178 : INFO : worker thread finished; awaiting finish of 4 more threads\n",
      "2020-05-29 14:14:26,180 : INFO : worker thread finished; awaiting finish of 3 more threads\n",
      "2020-05-29 14:14:26,183 : INFO : worker thread finished; awaiting finish of 2 more threads\n",
      "2020-05-29 14:14:26,189 : INFO : worker thread finished; awaiting finish of 1 more threads\n",
      "2020-05-29 14:14:26,195 : INFO : worker thread finished; awaiting finish of 0 more threads\n",
      "2020-05-29 14:14:26,196 : INFO : EPOCH - 7 : training on 9227204 raw words (8221942 effective words) took 5.8s, 1407357 effective words/s\n",
      "2020-05-29 14:14:27,210 : INFO : EPOCH 8 - PROGRESS: at 16.81% examples, 1375770 words/s, in_qsize 14, out_qsize 1\n",
      "2020-05-29 14:14:28,226 : INFO : EPOCH 8 - PROGRESS: at 34.13% examples, 1389501 words/s, in_qsize 14, out_qsize 1\n",
      "2020-05-29 14:14:29,233 : INFO : EPOCH 8 - PROGRESS: at 51.32% examples, 1395491 words/s, in_qsize 14, out_qsize 1\n",
      "2020-05-29 14:14:30,237 : INFO : EPOCH 8 - PROGRESS: at 69.18% examples, 1412667 words/s, in_qsize 15, out_qsize 0\n",
      "2020-05-29 14:14:31,239 : INFO : EPOCH 8 - PROGRESS: at 86.75% examples, 1417926 words/s, in_qsize 15, out_qsize 0\n",
      "2020-05-29 14:14:31,936 : INFO : worker thread finished; awaiting finish of 7 more threads\n",
      "2020-05-29 14:14:31,944 : INFO : worker thread finished; awaiting finish of 6 more threads\n",
      "2020-05-29 14:14:31,945 : INFO : worker thread finished; awaiting finish of 5 more threads\n",
      "2020-05-29 14:14:31,949 : INFO : worker thread finished; awaiting finish of 4 more threads\n",
      "2020-05-29 14:14:31,951 : INFO : worker thread finished; awaiting finish of 3 more threads\n",
      "2020-05-29 14:14:31,961 : INFO : worker thread finished; awaiting finish of 2 more threads\n",
      "2020-05-29 14:14:31,964 : INFO : worker thread finished; awaiting finish of 1 more threads\n",
      "2020-05-29 14:14:31,965 : INFO : worker thread finished; awaiting finish of 0 more threads\n",
      "2020-05-29 14:14:31,965 : INFO : EPOCH - 8 : training on 9227204 raw words (8223206 effective words) took 5.8s, 1427999 effective words/s\n",
      "2020-05-29 14:14:33,001 : INFO : EPOCH 9 - PROGRESS: at 17.03% examples, 1364648 words/s, in_qsize 13, out_qsize 2\n",
      "2020-05-29 14:14:34,007 : INFO : EPOCH 9 - PROGRESS: at 33.92% examples, 1373316 words/s, in_qsize 14, out_qsize 1\n",
      "2020-05-29 14:14:35,008 : INFO : EPOCH 9 - PROGRESS: at 51.54% examples, 1398614 words/s, in_qsize 16, out_qsize 2\n",
      "2020-05-29 14:14:36,018 : INFO : EPOCH 9 - PROGRESS: at 69.39% examples, 1412603 words/s, in_qsize 15, out_qsize 0\n",
      "2020-05-29 14:14:37,020 : INFO : EPOCH 9 - PROGRESS: at 87.07% examples, 1420045 words/s, in_qsize 15, out_qsize 2\n",
      "2020-05-29 14:14:37,706 : INFO : worker thread finished; awaiting finish of 7 more threads\n",
      "2020-05-29 14:14:37,721 : INFO : worker thread finished; awaiting finish of 6 more threads\n",
      "2020-05-29 14:14:37,722 : INFO : worker thread finished; awaiting finish of 5 more threads\n",
      "2020-05-29 14:14:37,722 : INFO : worker thread finished; awaiting finish of 4 more threads\n",
      "2020-05-29 14:14:37,723 : INFO : worker thread finished; awaiting finish of 3 more threads\n",
      "2020-05-29 14:14:37,727 : INFO : worker thread finished; awaiting finish of 2 more threads\n",
      "2020-05-29 14:14:37,739 : INFO : worker thread finished; awaiting finish of 1 more threads\n",
      "2020-05-29 14:14:37,742 : INFO : worker thread finished; awaiting finish of 0 more threads\n",
      "2020-05-29 14:14:37,743 : INFO : EPOCH - 9 : training on 9227204 raw words (8221836 effective words) took 5.8s, 1425780 effective words/s\n",
      "2020-05-29 14:14:38,768 : INFO : EPOCH 10 - PROGRESS: at 15.84% examples, 1281554 words/s, in_qsize 14, out_qsize 1\n",
      "2020-05-29 14:14:39,770 : INFO : EPOCH 10 - PROGRESS: at 33.06% examples, 1347335 words/s, in_qsize 15, out_qsize 0\n",
      "2020-05-29 14:14:40,783 : INFO : EPOCH 10 - PROGRESS: at 50.56% examples, 1373551 words/s, in_qsize 13, out_qsize 2\n",
      "2020-05-29 14:14:41,791 : INFO : EPOCH 10 - PROGRESS: at 68.42% examples, 1394664 words/s, in_qsize 13, out_qsize 2\n",
      "2020-05-29 14:14:42,793 : INFO : EPOCH 10 - PROGRESS: at 86.10% examples, 1405152 words/s, in_qsize 12, out_qsize 3\n",
      "2020-05-29 14:14:43,521 : INFO : worker thread finished; awaiting finish of 7 more threads\n",
      "2020-05-29 14:14:43,529 : INFO : worker thread finished; awaiting finish of 6 more threads\n",
      "2020-05-29 14:14:43,530 : INFO : worker thread finished; awaiting finish of 5 more threads\n",
      "2020-05-29 14:14:43,535 : INFO : worker thread finished; awaiting finish of 4 more threads\n",
      "2020-05-29 14:14:43,536 : INFO : worker thread finished; awaiting finish of 3 more threads\n",
      "2020-05-29 14:14:43,548 : INFO : worker thread finished; awaiting finish of 2 more threads\n",
      "2020-05-29 14:14:43,549 : INFO : worker thread finished; awaiting finish of 1 more threads\n",
      "2020-05-29 14:14:43,549 : INFO : worker thread finished; awaiting finish of 0 more threads\n",
      "2020-05-29 14:14:43,550 : INFO : EPOCH - 10 : training on 9227204 raw words (8222899 effective words) took 5.8s, 1418557 effective words/s\n",
      "2020-05-29 14:14:44,580 : INFO : EPOCH 11 - PROGRESS: at 17.57% examples, 1416208 words/s, in_qsize 12, out_qsize 3\n",
      "2020-05-29 14:14:45,595 : INFO : EPOCH 11 - PROGRESS: at 35.00% examples, 1415272 words/s, in_qsize 15, out_qsize 0\n",
      "2020-05-29 14:14:46,602 : INFO : EPOCH 11 - PROGRESS: at 52.84% examples, 1430155 words/s, in_qsize 14, out_qsize 1\n",
      "2020-05-29 14:14:47,604 : INFO : EPOCH 11 - PROGRESS: at 70.26% examples, 1430394 words/s, in_qsize 14, out_qsize 1\n",
      "2020-05-29 14:14:48,611 : INFO : EPOCH 11 - PROGRESS: at 87.72% examples, 1429035 words/s, in_qsize 14, out_qsize 1\n",
      "2020-05-29 14:14:49,253 : INFO : worker thread finished; awaiting finish of 7 more threads\n",
      "2020-05-29 14:14:49,261 : INFO : worker thread finished; awaiting finish of 6 more threads\n",
      "2020-05-29 14:14:49,267 : INFO : worker thread finished; awaiting finish of 5 more threads\n",
      "2020-05-29 14:14:49,270 : INFO : worker thread finished; awaiting finish of 4 more threads\n",
      "2020-05-29 14:14:49,272 : INFO : worker thread finished; awaiting finish of 3 more threads\n",
      "2020-05-29 14:14:49,273 : INFO : worker thread finished; awaiting finish of 2 more threads\n",
      "2020-05-29 14:14:49,280 : INFO : worker thread finished; awaiting finish of 1 more threads\n",
      "2020-05-29 14:14:49,281 : INFO : worker thread finished; awaiting finish of 0 more threads\n",
      "2020-05-29 14:14:49,282 : INFO : EPOCH - 11 : training on 9227204 raw words (8222505 effective words) took 5.7s, 1437423 effective words/s\n",
      "2020-05-29 14:14:50,305 : INFO : EPOCH 12 - PROGRESS: at 17.02% examples, 1381968 words/s, in_qsize 15, out_qsize 0\n",
      "2020-05-29 14:14:51,317 : INFO : EPOCH 12 - PROGRESS: at 35.10% examples, 1426574 words/s, in_qsize 15, out_qsize 0\n",
      "2020-05-29 14:14:52,321 : INFO : EPOCH 12 - PROGRESS: at 52.62% examples, 1430147 words/s, in_qsize 13, out_qsize 2\n",
      "2020-05-29 14:14:53,327 : INFO : EPOCH 12 - PROGRESS: at 70.26% examples, 1433410 words/s, in_qsize 14, out_qsize 1\n"
     ]
    },
    {
     "name": "stderr",
     "output_type": "stream",
     "text": [
      "2020-05-29 14:14:54,331 : INFO : EPOCH 12 - PROGRESS: at 87.51% examples, 1428798 words/s, in_qsize 14, out_qsize 1\n",
      "2020-05-29 14:14:54,991 : INFO : worker thread finished; awaiting finish of 7 more threads\n",
      "2020-05-29 14:14:54,995 : INFO : worker thread finished; awaiting finish of 6 more threads\n",
      "2020-05-29 14:14:54,996 : INFO : worker thread finished; awaiting finish of 5 more threads\n",
      "2020-05-29 14:14:54,998 : INFO : worker thread finished; awaiting finish of 4 more threads\n",
      "2020-05-29 14:14:55,013 : INFO : worker thread finished; awaiting finish of 3 more threads\n",
      "2020-05-29 14:14:55,015 : INFO : worker thread finished; awaiting finish of 2 more threads\n",
      "2020-05-29 14:14:55,016 : INFO : worker thread finished; awaiting finish of 1 more threads\n",
      "2020-05-29 14:14:55,017 : INFO : worker thread finished; awaiting finish of 0 more threads\n",
      "2020-05-29 14:14:55,018 : INFO : EPOCH - 12 : training on 9227204 raw words (8222477 effective words) took 5.7s, 1436440 effective words/s\n",
      "2020-05-29 14:14:56,034 : INFO : EPOCH 13 - PROGRESS: at 16.70% examples, 1366836 words/s, in_qsize 15, out_qsize 0\n",
      "2020-05-29 14:14:57,042 : INFO : EPOCH 13 - PROGRESS: at 33.70% examples, 1377346 words/s, in_qsize 13, out_qsize 2\n",
      "2020-05-29 14:14:58,056 : INFO : EPOCH 13 - PROGRESS: at 51.53% examples, 1401805 words/s, in_qsize 15, out_qsize 0\n",
      "2020-05-29 14:14:59,061 : INFO : EPOCH 13 - PROGRESS: at 68.64% examples, 1401347 words/s, in_qsize 14, out_qsize 1\n",
      "2020-05-29 14:15:00,063 : INFO : EPOCH 13 - PROGRESS: at 85.66% examples, 1400311 words/s, in_qsize 15, out_qsize 0\n",
      "2020-05-29 14:15:00,856 : INFO : worker thread finished; awaiting finish of 7 more threads\n",
      "2020-05-29 14:15:00,861 : INFO : worker thread finished; awaiting finish of 6 more threads\n",
      "2020-05-29 14:15:00,864 : INFO : worker thread finished; awaiting finish of 5 more threads\n",
      "2020-05-29 14:15:00,866 : INFO : worker thread finished; awaiting finish of 4 more threads\n",
      "2020-05-29 14:15:00,868 : INFO : worker thread finished; awaiting finish of 3 more threads\n",
      "2020-05-29 14:15:00,882 : INFO : worker thread finished; awaiting finish of 2 more threads\n",
      "2020-05-29 14:15:00,884 : INFO : worker thread finished; awaiting finish of 1 more threads\n",
      "2020-05-29 14:15:00,884 : INFO : worker thread finished; awaiting finish of 0 more threads\n",
      "2020-05-29 14:15:00,884 : INFO : EPOCH - 13 : training on 9227204 raw words (8223749 effective words) took 5.9s, 1404610 effective words/s\n",
      "2020-05-29 14:15:01,897 : INFO : EPOCH 14 - PROGRESS: at 16.81% examples, 1380133 words/s, in_qsize 14, out_qsize 1\n",
      "2020-05-29 14:15:02,908 : INFO : EPOCH 14 - PROGRESS: at 34.78% examples, 1421604 words/s, in_qsize 15, out_qsize 0\n",
      "2020-05-29 14:15:03,908 : INFO : EPOCH 14 - PROGRESS: at 51.86% examples, 1416893 words/s, in_qsize 13, out_qsize 2\n",
      "2020-05-29 14:15:04,927 : INFO : EPOCH 14 - PROGRESS: at 68.96% examples, 1408081 words/s, in_qsize 13, out_qsize 2\n",
      "2020-05-29 14:15:05,928 : INFO : EPOCH 14 - PROGRESS: at 85.45% examples, 1397136 words/s, in_qsize 16, out_qsize 1\n",
      "2020-05-29 14:15:06,751 : INFO : worker thread finished; awaiting finish of 7 more threads\n",
      "2020-05-29 14:15:06,754 : INFO : worker thread finished; awaiting finish of 6 more threads\n",
      "2020-05-29 14:15:06,757 : INFO : worker thread finished; awaiting finish of 5 more threads\n",
      "2020-05-29 14:15:06,762 : INFO : worker thread finished; awaiting finish of 4 more threads\n",
      "2020-05-29 14:15:06,763 : INFO : worker thread finished; awaiting finish of 3 more threads\n",
      "2020-05-29 14:15:06,765 : INFO : worker thread finished; awaiting finish of 2 more threads\n",
      "2020-05-29 14:15:06,775 : INFO : worker thread finished; awaiting finish of 1 more threads\n",
      "2020-05-29 14:15:06,777 : INFO : worker thread finished; awaiting finish of 0 more threads\n",
      "2020-05-29 14:15:06,777 : INFO : EPOCH - 14 : training on 9227204 raw words (8223062 effective words) took 5.9s, 1398509 effective words/s\n",
      "2020-05-29 14:15:07,789 : INFO : EPOCH 15 - PROGRESS: at 16.59% examples, 1360820 words/s, in_qsize 15, out_qsize 0\n",
      "2020-05-29 14:15:08,803 : INFO : EPOCH 15 - PROGRESS: at 33.92% examples, 1383416 words/s, in_qsize 15, out_qsize 0\n",
      "2020-05-29 14:15:09,809 : INFO : EPOCH 15 - PROGRESS: at 50.88% examples, 1385996 words/s, in_qsize 15, out_qsize 0\n",
      "2020-05-29 14:15:10,829 : INFO : EPOCH 15 - PROGRESS: at 68.42% examples, 1393597 words/s, in_qsize 13, out_qsize 2\n",
      "2020-05-29 14:15:11,841 : INFO : EPOCH 15 - PROGRESS: at 85.99% examples, 1399616 words/s, in_qsize 15, out_qsize 0\n",
      "2020-05-29 14:15:12,627 : INFO : worker thread finished; awaiting finish of 7 more threads\n",
      "2020-05-29 14:15:12,630 : INFO : worker thread finished; awaiting finish of 6 more threads\n",
      "2020-05-29 14:15:12,633 : INFO : worker thread finished; awaiting finish of 5 more threads\n",
      "2020-05-29 14:15:12,641 : INFO : worker thread finished; awaiting finish of 4 more threads\n",
      "2020-05-29 14:15:12,643 : INFO : worker thread finished; awaiting finish of 3 more threads\n",
      "2020-05-29 14:15:12,644 : INFO : worker thread finished; awaiting finish of 2 more threads\n",
      "2020-05-29 14:15:12,647 : INFO : worker thread finished; awaiting finish of 1 more threads\n",
      "2020-05-29 14:15:12,652 : INFO : worker thread finished; awaiting finish of 0 more threads\n",
      "2020-05-29 14:15:12,653 : INFO : EPOCH - 15 : training on 9227204 raw words (8222875 effective words) took 5.9s, 1401966 effective words/s\n",
      "2020-05-29 14:15:13,675 : INFO : EPOCH 16 - PROGRESS: at 16.59% examples, 1349195 words/s, in_qsize 14, out_qsize 1\n",
      "2020-05-29 14:15:14,681 : INFO : EPOCH 16 - PROGRESS: at 32.84% examples, 1338496 words/s, in_qsize 12, out_qsize 3\n",
      "2020-05-29 14:15:15,682 : INFO : EPOCH 16 - PROGRESS: at 50.02% examples, 1364112 words/s, in_qsize 14, out_qsize 1\n",
      "2020-05-29 14:15:16,682 : INFO : EPOCH 16 - PROGRESS: at 67.13% examples, 1374915 words/s, in_qsize 15, out_qsize 0\n",
      "2020-05-29 14:15:17,697 : INFO : EPOCH 16 - PROGRESS: at 84.70% examples, 1384294 words/s, in_qsize 15, out_qsize 0\n",
      "2020-05-29 14:15:18,512 : INFO : worker thread finished; awaiting finish of 7 more threads\n",
      "2020-05-29 14:15:18,520 : INFO : worker thread finished; awaiting finish of 6 more threads\n",
      "2020-05-29 14:15:18,523 : INFO : worker thread finished; awaiting finish of 5 more threads\n",
      "2020-05-29 14:15:18,527 : INFO : worker thread finished; awaiting finish of 4 more threads\n",
      "2020-05-29 14:15:18,529 : INFO : worker thread finished; awaiting finish of 3 more threads\n",
      "2020-05-29 14:15:18,532 : INFO : worker thread finished; awaiting finish of 2 more threads\n",
      "2020-05-29 14:15:18,541 : INFO : worker thread finished; awaiting finish of 1 more threads\n",
      "2020-05-29 14:15:18,543 : INFO : worker thread finished; awaiting finish of 0 more threads\n",
      "2020-05-29 14:15:18,543 : INFO : EPOCH - 16 : training on 9227204 raw words (8222837 effective words) took 5.9s, 1398727 effective words/s\n",
      "2020-05-29 14:15:19,578 : INFO : EPOCH 17 - PROGRESS: at 17.13% examples, 1374278 words/s, in_qsize 15, out_qsize 0\n",
      "2020-05-29 14:15:20,591 : INFO : EPOCH 17 - PROGRESS: at 33.16% examples, 1337991 words/s, in_qsize 14, out_qsize 4\n",
      "2020-05-29 14:15:21,592 : INFO : EPOCH 17 - PROGRESS: at 47.65% examples, 1290220 words/s, in_qsize 15, out_qsize 0\n",
      "2020-05-29 14:15:22,603 : INFO : EPOCH 17 - PROGRESS: at 64.19% examples, 1304561 words/s, in_qsize 14, out_qsize 1\n",
      "2020-05-29 14:15:23,624 : INFO : EPOCH 17 - PROGRESS: at 81.01% examples, 1314470 words/s, in_qsize 15, out_qsize 0\n",
      "2020-05-29 14:15:24,628 : INFO : EPOCH 17 - PROGRESS: at 98.90% examples, 1338781 words/s, in_qsize 11, out_qsize 0\n",
      "2020-05-29 14:15:24,646 : INFO : worker thread finished; awaiting finish of 7 more threads\n",
      "2020-05-29 14:15:24,656 : INFO : worker thread finished; awaiting finish of 6 more threads\n",
      "2020-05-29 14:15:24,658 : INFO : worker thread finished; awaiting finish of 5 more threads\n",
      "2020-05-29 14:15:24,662 : INFO : worker thread finished; awaiting finish of 4 more threads\n",
      "2020-05-29 14:15:24,665 : INFO : worker thread finished; awaiting finish of 3 more threads\n",
      "2020-05-29 14:15:24,668 : INFO : worker thread finished; awaiting finish of 2 more threads\n",
      "2020-05-29 14:15:24,677 : INFO : worker thread finished; awaiting finish of 1 more threads\n",
      "2020-05-29 14:15:24,680 : INFO : worker thread finished; awaiting finish of 0 more threads\n"
     ]
    },
    {
     "name": "stderr",
     "output_type": "stream",
     "text": [
      "2020-05-29 14:15:24,681 : INFO : EPOCH - 17 : training on 9227204 raw words (8221957 effective words) took 6.1s, 1342062 effective words/s\n",
      "2020-05-29 14:15:25,692 : INFO : EPOCH 18 - PROGRESS: at 15.84% examples, 1299376 words/s, in_qsize 14, out_qsize 1\n",
      "2020-05-29 14:15:26,721 : INFO : EPOCH 18 - PROGRESS: at 31.43% examples, 1272739 words/s, in_qsize 16, out_qsize 0\n",
      "2020-05-29 14:15:27,725 : INFO : EPOCH 18 - PROGRESS: at 48.08% examples, 1303769 words/s, in_qsize 14, out_qsize 1\n",
      "2020-05-29 14:15:28,727 : INFO : EPOCH 18 - PROGRESS: at 63.87% examples, 1302272 words/s, in_qsize 15, out_qsize 0\n",
      "2020-05-29 14:15:29,732 : INFO : EPOCH 18 - PROGRESS: at 80.68% examples, 1316592 words/s, in_qsize 15, out_qsize 0\n",
      "2020-05-29 14:15:30,734 : INFO : EPOCH 18 - PROGRESS: at 98.25% examples, 1336980 words/s, in_qsize 14, out_qsize 1\n",
      "2020-05-29 14:15:30,797 : INFO : worker thread finished; awaiting finish of 7 more threads\n",
      "2020-05-29 14:15:30,799 : INFO : worker thread finished; awaiting finish of 6 more threads\n",
      "2020-05-29 14:15:30,801 : INFO : worker thread finished; awaiting finish of 5 more threads\n",
      "2020-05-29 14:15:30,809 : INFO : worker thread finished; awaiting finish of 4 more threads\n",
      "2020-05-29 14:15:30,810 : INFO : worker thread finished; awaiting finish of 3 more threads\n",
      "2020-05-29 14:15:30,811 : INFO : worker thread finished; awaiting finish of 2 more threads\n",
      "2020-05-29 14:15:30,816 : INFO : worker thread finished; awaiting finish of 1 more threads\n",
      "2020-05-29 14:15:30,820 : INFO : worker thread finished; awaiting finish of 0 more threads\n",
      "2020-05-29 14:15:30,820 : INFO : EPOCH - 18 : training on 9227204 raw words (8222323 effective words) took 6.1s, 1341453 effective words/s\n",
      "2020-05-29 14:15:31,840 : INFO : EPOCH 19 - PROGRESS: at 17.02% examples, 1387651 words/s, in_qsize 15, out_qsize 0\n",
      "2020-05-29 14:15:32,841 : INFO : EPOCH 19 - PROGRESS: at 34.89% examples, 1427463 words/s, in_qsize 15, out_qsize 0\n",
      "2020-05-29 14:15:33,846 : INFO : EPOCH 19 - PROGRESS: at 51.32% examples, 1401015 words/s, in_qsize 13, out_qsize 2\n",
      "2020-05-29 14:15:34,849 : INFO : EPOCH 19 - PROGRESS: at 68.21% examples, 1397159 words/s, in_qsize 15, out_qsize 0\n",
      "2020-05-29 14:15:35,852 : INFO : EPOCH 19 - PROGRESS: at 85.02% examples, 1392961 words/s, in_qsize 14, out_qsize 1\n",
      "2020-05-29 14:15:36,646 : INFO : worker thread finished; awaiting finish of 7 more threads\n",
      "2020-05-29 14:15:36,659 : INFO : worker thread finished; awaiting finish of 6 more threads\n",
      "2020-05-29 14:15:36,664 : INFO : worker thread finished; awaiting finish of 5 more threads\n",
      "2020-05-29 14:15:36,669 : INFO : worker thread finished; awaiting finish of 4 more threads\n",
      "2020-05-29 14:15:36,671 : INFO : worker thread finished; awaiting finish of 3 more threads\n",
      "2020-05-29 14:15:36,672 : INFO : worker thread finished; awaiting finish of 2 more threads\n",
      "2020-05-29 14:15:36,680 : INFO : worker thread finished; awaiting finish of 1 more threads\n",
      "2020-05-29 14:15:36,682 : INFO : worker thread finished; awaiting finish of 0 more threads\n",
      "2020-05-29 14:15:36,682 : INFO : EPOCH - 19 : training on 9227204 raw words (8222014 effective words) took 5.8s, 1405543 effective words/s\n",
      "2020-05-29 14:15:37,696 : INFO : EPOCH 20 - PROGRESS: at 16.37% examples, 1340597 words/s, in_qsize 15, out_qsize 0\n",
      "2020-05-29 14:15:38,714 : INFO : EPOCH 20 - PROGRESS: at 32.41% examples, 1317991 words/s, in_qsize 16, out_qsize 2\n",
      "2020-05-29 14:15:39,719 : INFO : EPOCH 20 - PROGRESS: at 48.51% examples, 1319039 words/s, in_qsize 13, out_qsize 2\n",
      "2020-05-29 14:15:40,731 : INFO : EPOCH 20 - PROGRESS: at 65.83% examples, 1341584 words/s, in_qsize 15, out_qsize 0\n",
      "2020-05-29 14:15:41,735 : INFO : EPOCH 20 - PROGRESS: at 82.85% examples, 1351489 words/s, in_qsize 15, out_qsize 0\n",
      "2020-05-29 14:15:42,696 : INFO : worker thread finished; awaiting finish of 7 more threads\n",
      "2020-05-29 14:15:42,699 : INFO : worker thread finished; awaiting finish of 6 more threads\n",
      "2020-05-29 14:15:42,700 : INFO : worker thread finished; awaiting finish of 5 more threads\n",
      "2020-05-29 14:15:42,701 : INFO : worker thread finished; awaiting finish of 4 more threads\n",
      "2020-05-29 14:15:42,702 : INFO : worker thread finished; awaiting finish of 3 more threads\n",
      "2020-05-29 14:15:42,710 : INFO : worker thread finished; awaiting finish of 2 more threads\n",
      "2020-05-29 14:15:42,711 : INFO : worker thread finished; awaiting finish of 1 more threads\n",
      "2020-05-29 14:15:42,717 : INFO : worker thread finished; awaiting finish of 0 more threads\n",
      "2020-05-29 14:15:42,718 : INFO : EPOCH - 20 : training on 9227204 raw words (8222804 effective words) took 6.0s, 1364889 effective words/s\n",
      "2020-05-29 14:15:43,735 : INFO : EPOCH 21 - PROGRESS: at 16.48% examples, 1345947 words/s, in_qsize 14, out_qsize 1\n",
      "2020-05-29 14:15:44,736 : INFO : EPOCH 21 - PROGRESS: at 32.73% examples, 1339833 words/s, in_qsize 15, out_qsize 0\n",
      "2020-05-29 14:15:45,745 : INFO : EPOCH 21 - PROGRESS: at 49.49% examples, 1350101 words/s, in_qsize 15, out_qsize 0\n",
      "2020-05-29 14:15:46,766 : INFO : EPOCH 21 - PROGRESS: at 65.93% examples, 1343729 words/s, in_qsize 14, out_qsize 1\n",
      "2020-05-29 14:15:47,768 : INFO : EPOCH 21 - PROGRESS: at 82.85% examples, 1352212 words/s, in_qsize 15, out_qsize 0\n",
      "2020-05-29 14:15:48,771 : INFO : EPOCH 21 - PROGRESS: at 99.33% examples, 1351789 words/s, in_qsize 6, out_qsize 3\n",
      "2020-05-29 14:15:48,774 : INFO : worker thread finished; awaiting finish of 7 more threads\n",
      "2020-05-29 14:15:48,775 : INFO : worker thread finished; awaiting finish of 6 more threads\n",
      "2020-05-29 14:15:48,776 : INFO : worker thread finished; awaiting finish of 5 more threads\n",
      "2020-05-29 14:15:48,777 : INFO : worker thread finished; awaiting finish of 4 more threads\n",
      "2020-05-29 14:15:48,793 : INFO : worker thread finished; awaiting finish of 3 more threads\n",
      "2020-05-29 14:15:48,795 : INFO : worker thread finished; awaiting finish of 2 more threads\n",
      "2020-05-29 14:15:48,796 : INFO : worker thread finished; awaiting finish of 1 more threads\n",
      "2020-05-29 14:15:48,798 : INFO : worker thread finished; awaiting finish of 0 more threads\n",
      "2020-05-29 14:15:48,799 : INFO : EPOCH - 21 : training on 9227204 raw words (8222657 effective words) took 6.1s, 1354589 effective words/s\n",
      "2020-05-29 14:15:49,822 : INFO : EPOCH 22 - PROGRESS: at 16.37% examples, 1331229 words/s, in_qsize 12, out_qsize 3\n",
      "2020-05-29 14:15:50,829 : INFO : EPOCH 22 - PROGRESS: at 32.62% examples, 1329218 words/s, in_qsize 15, out_qsize 0\n",
      "2020-05-29 14:15:51,831 : INFO : EPOCH 22 - PROGRESS: at 49.16% examples, 1339258 words/s, in_qsize 15, out_qsize 0\n",
      "2020-05-29 14:15:52,841 : INFO : EPOCH 22 - PROGRESS: at 65.93% examples, 1346682 words/s, in_qsize 14, out_qsize 1\n",
      "2020-05-29 14:15:53,844 : INFO : EPOCH 22 - PROGRESS: at 83.62% examples, 1366555 words/s, in_qsize 15, out_qsize 0\n",
      "2020-05-29 14:15:54,772 : INFO : worker thread finished; awaiting finish of 7 more threads\n",
      "2020-05-29 14:15:54,784 : INFO : worker thread finished; awaiting finish of 6 more threads\n",
      "2020-05-29 14:15:54,786 : INFO : worker thread finished; awaiting finish of 5 more threads\n",
      "2020-05-29 14:15:54,787 : INFO : worker thread finished; awaiting finish of 4 more threads\n",
      "2020-05-29 14:15:54,787 : INFO : worker thread finished; awaiting finish of 3 more threads\n",
      "2020-05-29 14:15:54,796 : INFO : worker thread finished; awaiting finish of 2 more threads\n",
      "2020-05-29 14:15:54,799 : INFO : worker thread finished; awaiting finish of 1 more threads\n",
      "2020-05-29 14:15:54,804 : INFO : worker thread finished; awaiting finish of 0 more threads\n",
      "2020-05-29 14:15:54,805 : INFO : EPOCH - 22 : training on 9227204 raw words (8222188 effective words) took 6.0s, 1371957 effective words/s\n",
      "2020-05-29 14:15:55,819 : INFO : EPOCH 23 - PROGRESS: at 17.02% examples, 1394380 words/s, in_qsize 15, out_qsize 0\n",
      "2020-05-29 14:15:56,825 : INFO : EPOCH 23 - PROGRESS: at 34.13% examples, 1396193 words/s, in_qsize 15, out_qsize 0\n",
      "2020-05-29 14:15:57,825 : INFO : EPOCH 23 - PROGRESS: at 51.86% examples, 1417677 words/s, in_qsize 15, out_qsize 0\n",
      "2020-05-29 14:15:58,826 : INFO : EPOCH 23 - PROGRESS: at 69.18% examples, 1419447 words/s, in_qsize 12, out_qsize 3\n",
      "2020-05-29 14:15:59,829 : INFO : EPOCH 23 - PROGRESS: at 86.96% examples, 1426843 words/s, in_qsize 15, out_qsize 0\n",
      "2020-05-29 14:16:00,515 : INFO : worker thread finished; awaiting finish of 7 more threads\n"
     ]
    },
    {
     "name": "stderr",
     "output_type": "stream",
     "text": [
      "2020-05-29 14:16:00,518 : INFO : worker thread finished; awaiting finish of 6 more threads\n",
      "2020-05-29 14:16:00,519 : INFO : worker thread finished; awaiting finish of 5 more threads\n",
      "2020-05-29 14:16:00,520 : INFO : worker thread finished; awaiting finish of 4 more threads\n",
      "2020-05-29 14:16:00,529 : INFO : worker thread finished; awaiting finish of 3 more threads\n",
      "2020-05-29 14:16:00,533 : INFO : worker thread finished; awaiting finish of 2 more threads\n",
      "2020-05-29 14:16:00,533 : INFO : worker thread finished; awaiting finish of 1 more threads\n",
      "2020-05-29 14:16:00,537 : INFO : worker thread finished; awaiting finish of 0 more threads\n",
      "2020-05-29 14:16:00,538 : INFO : EPOCH - 23 : training on 9227204 raw words (8221978 effective words) took 5.7s, 1436886 effective words/s\n",
      "2020-05-29 14:16:01,556 : INFO : EPOCH 24 - PROGRESS: at 17.24% examples, 1405463 words/s, in_qsize 14, out_qsize 1\n",
      "2020-05-29 14:16:02,571 : INFO : EPOCH 24 - PROGRESS: at 35.10% examples, 1427124 words/s, in_qsize 15, out_qsize 0\n",
      "2020-05-29 14:16:03,578 : INFO : EPOCH 24 - PROGRESS: at 51.86% examples, 1408565 words/s, in_qsize 14, out_qsize 1\n",
      "2020-05-29 14:16:04,586 : INFO : EPOCH 24 - PROGRESS: at 69.29% examples, 1412108 words/s, in_qsize 15, out_qsize 0\n",
      "2020-05-29 14:16:05,588 : INFO : EPOCH 24 - PROGRESS: at 86.42% examples, 1410589 words/s, in_qsize 15, out_qsize 0\n",
      "2020-05-29 14:16:06,338 : INFO : worker thread finished; awaiting finish of 7 more threads\n",
      "2020-05-29 14:16:06,341 : INFO : worker thread finished; awaiting finish of 6 more threads\n",
      "2020-05-29 14:16:06,343 : INFO : worker thread finished; awaiting finish of 5 more threads\n",
      "2020-05-29 14:16:06,347 : INFO : worker thread finished; awaiting finish of 4 more threads\n",
      "2020-05-29 14:16:06,353 : INFO : worker thread finished; awaiting finish of 3 more threads\n",
      "2020-05-29 14:16:06,354 : INFO : worker thread finished; awaiting finish of 2 more threads\n",
      "2020-05-29 14:16:06,358 : INFO : worker thread finished; awaiting finish of 1 more threads\n",
      "2020-05-29 14:16:06,360 : INFO : worker thread finished; awaiting finish of 0 more threads\n",
      "2020-05-29 14:16:06,361 : INFO : EPOCH - 24 : training on 9227204 raw words (8222356 effective words) took 5.8s, 1414515 effective words/s\n",
      "2020-05-29 14:16:07,376 : INFO : EPOCH 25 - PROGRESS: at 16.70% examples, 1366608 words/s, in_qsize 15, out_qsize 0\n",
      "2020-05-29 14:16:08,382 : INFO : EPOCH 25 - PROGRESS: at 33.27% examples, 1361110 words/s, in_qsize 15, out_qsize 0\n",
      "2020-05-29 14:16:09,398 : INFO : EPOCH 25 - PROGRESS: at 50.56% examples, 1374829 words/s, in_qsize 15, out_qsize 0\n",
      "2020-05-29 14:16:10,413 : INFO : EPOCH 25 - PROGRESS: at 67.23% examples, 1369375 words/s, in_qsize 14, out_qsize 1\n",
      "2020-05-29 14:16:11,415 : INFO : EPOCH 25 - PROGRESS: at 82.64% examples, 1348105 words/s, in_qsize 14, out_qsize 1\n",
      "2020-05-29 14:16:12,427 : INFO : EPOCH 25 - PROGRESS: at 97.50% examples, 1324233 words/s, in_qsize 14, out_qsize 1\n",
      "2020-05-29 14:16:12,526 : INFO : worker thread finished; awaiting finish of 7 more threads\n",
      "2020-05-29 14:16:12,530 : INFO : worker thread finished; awaiting finish of 6 more threads\n",
      "2020-05-29 14:16:12,532 : INFO : worker thread finished; awaiting finish of 5 more threads\n",
      "2020-05-29 14:16:12,533 : INFO : worker thread finished; awaiting finish of 4 more threads\n",
      "2020-05-29 14:16:12,537 : INFO : worker thread finished; awaiting finish of 3 more threads\n",
      "2020-05-29 14:16:12,547 : INFO : worker thread finished; awaiting finish of 2 more threads\n",
      "2020-05-29 14:16:12,548 : INFO : worker thread finished; awaiting finish of 1 more threads\n",
      "2020-05-29 14:16:12,551 : INFO : worker thread finished; awaiting finish of 0 more threads\n",
      "2020-05-29 14:16:12,552 : INFO : EPOCH - 25 : training on 9227204 raw words (8223284 effective words) took 6.2s, 1330882 effective words/s\n",
      "2020-05-29 14:16:13,569 : INFO : EPOCH 26 - PROGRESS: at 16.38% examples, 1334567 words/s, in_qsize 14, out_qsize 1\n",
      "2020-05-29 14:16:14,580 : INFO : EPOCH 26 - PROGRESS: at 33.81% examples, 1376584 words/s, in_qsize 13, out_qsize 2\n",
      "2020-05-29 14:16:15,581 : INFO : EPOCH 26 - PROGRESS: at 51.43% examples, 1401445 words/s, in_qsize 15, out_qsize 0\n",
      "2020-05-29 14:16:16,594 : INFO : EPOCH 26 - PROGRESS: at 66.91% examples, 1365133 words/s, in_qsize 14, out_qsize 1\n",
      "2020-05-29 14:16:17,612 : INFO : EPOCH 26 - PROGRESS: at 84.59% examples, 1377257 words/s, in_qsize 12, out_qsize 3\n",
      "2020-05-29 14:16:18,498 : INFO : worker thread finished; awaiting finish of 7 more threads\n",
      "2020-05-29 14:16:18,506 : INFO : worker thread finished; awaiting finish of 6 more threads\n",
      "2020-05-29 14:16:18,507 : INFO : worker thread finished; awaiting finish of 5 more threads\n",
      "2020-05-29 14:16:18,508 : INFO : worker thread finished; awaiting finish of 4 more threads\n",
      "2020-05-29 14:16:18,510 : INFO : worker thread finished; awaiting finish of 3 more threads\n",
      "2020-05-29 14:16:18,518 : INFO : worker thread finished; awaiting finish of 2 more threads\n",
      "2020-05-29 14:16:18,523 : INFO : worker thread finished; awaiting finish of 1 more threads\n",
      "2020-05-29 14:16:18,529 : INFO : worker thread finished; awaiting finish of 0 more threads\n",
      "2020-05-29 14:16:18,529 : INFO : EPOCH - 26 : training on 9227204 raw words (8221598 effective words) took 6.0s, 1377625 effective words/s\n",
      "2020-05-29 14:16:19,542 : INFO : EPOCH 27 - PROGRESS: at 16.16% examples, 1324235 words/s, in_qsize 14, out_qsize 1\n",
      "2020-05-29 14:16:20,556 : INFO : EPOCH 27 - PROGRESS: at 32.84% examples, 1339053 words/s, in_qsize 14, out_qsize 1\n",
      "2020-05-29 14:16:21,556 : INFO : EPOCH 27 - PROGRESS: at 49.81% examples, 1358700 words/s, in_qsize 15, out_qsize 0\n",
      "2020-05-29 14:16:22,586 : INFO : EPOCH 27 - PROGRESS: at 67.02% examples, 1363061 words/s, in_qsize 12, out_qsize 5\n",
      "2020-05-29 14:16:23,589 : INFO : EPOCH 27 - PROGRESS: at 84.05% examples, 1368989 words/s, in_qsize 15, out_qsize 0\n",
      "2020-05-29 14:16:24,502 : INFO : worker thread finished; awaiting finish of 7 more threads\n",
      "2020-05-29 14:16:24,506 : INFO : worker thread finished; awaiting finish of 6 more threads\n",
      "2020-05-29 14:16:24,508 : INFO : worker thread finished; awaiting finish of 5 more threads\n",
      "2020-05-29 14:16:24,510 : INFO : worker thread finished; awaiting finish of 4 more threads\n",
      "2020-05-29 14:16:24,514 : INFO : worker thread finished; awaiting finish of 3 more threads\n",
      "2020-05-29 14:16:24,516 : INFO : worker thread finished; awaiting finish of 2 more threads\n",
      "2020-05-29 14:16:24,526 : INFO : worker thread finished; awaiting finish of 1 more threads\n",
      "2020-05-29 14:16:24,527 : INFO : worker thread finished; awaiting finish of 0 more threads\n",
      "2020-05-29 14:16:24,527 : INFO : EPOCH - 27 : training on 9227204 raw words (8221709 effective words) took 6.0s, 1373362 effective words/s\n",
      "2020-05-29 14:16:25,550 : INFO : EPOCH 28 - PROGRESS: at 16.05% examples, 1303604 words/s, in_qsize 13, out_qsize 2\n",
      "2020-05-29 14:16:26,564 : INFO : EPOCH 28 - PROGRESS: at 32.95% examples, 1337148 words/s, in_qsize 14, out_qsize 1\n",
      "2020-05-29 14:16:27,568 : INFO : EPOCH 28 - PROGRESS: at 48.40% examples, 1314261 words/s, in_qsize 15, out_qsize 0\n",
      "2020-05-29 14:16:28,582 : INFO : EPOCH 28 - PROGRESS: at 64.95% examples, 1322051 words/s, in_qsize 15, out_qsize 0\n",
      "2020-05-29 14:16:29,593 : INFO : EPOCH 28 - PROGRESS: at 82.74% examples, 1346526 words/s, in_qsize 15, out_qsize 0\n",
      "2020-05-29 14:16:30,522 : INFO : worker thread finished; awaiting finish of 7 more threads\n",
      "2020-05-29 14:16:30,530 : INFO : worker thread finished; awaiting finish of 6 more threads\n",
      "2020-05-29 14:16:30,532 : INFO : worker thread finished; awaiting finish of 5 more threads\n",
      "2020-05-29 14:16:30,533 : INFO : worker thread finished; awaiting finish of 4 more threads\n",
      "2020-05-29 14:16:30,535 : INFO : worker thread finished; awaiting finish of 3 more threads\n",
      "2020-05-29 14:16:30,548 : INFO : worker thread finished; awaiting finish of 2 more threads\n",
      "2020-05-29 14:16:30,549 : INFO : worker thread finished; awaiting finish of 1 more threads\n",
      "2020-05-29 14:16:30,551 : INFO : worker thread finished; awaiting finish of 0 more threads\n",
      "2020-05-29 14:16:30,551 : INFO : EPOCH - 28 : training on 9227204 raw words (8222624 effective words) took 6.0s, 1367476 effective words/s\n",
      "2020-05-29 14:16:31,564 : INFO : EPOCH 29 - PROGRESS: at 15.30% examples, 1255343 words/s, in_qsize 14, out_qsize 1\n"
     ]
    },
    {
     "name": "stderr",
     "output_type": "stream",
     "text": [
      "2020-05-29 14:16:32,572 : INFO : EPOCH 29 - PROGRESS: at 31.54% examples, 1290378 words/s, in_qsize 15, out_qsize 0\n",
      "2020-05-29 14:16:33,580 : INFO : EPOCH 29 - PROGRESS: at 47.10% examples, 1284074 words/s, in_qsize 15, out_qsize 0\n",
      "2020-05-29 14:16:34,590 : INFO : EPOCH 29 - PROGRESS: at 63.65% examples, 1300670 words/s, in_qsize 15, out_qsize 0\n",
      "2020-05-29 14:16:35,592 : INFO : EPOCH 29 - PROGRESS: at 79.92% examples, 1307294 words/s, in_qsize 15, out_qsize 0\n",
      "2020-05-29 14:16:36,596 : INFO : EPOCH 29 - PROGRESS: at 96.53% examples, 1315417 words/s, in_qsize 14, out_qsize 2\n",
      "2020-05-29 14:16:36,772 : INFO : worker thread finished; awaiting finish of 7 more threads\n",
      "2020-05-29 14:16:36,782 : INFO : worker thread finished; awaiting finish of 6 more threads\n",
      "2020-05-29 14:16:36,786 : INFO : worker thread finished; awaiting finish of 5 more threads\n",
      "2020-05-29 14:16:36,787 : INFO : worker thread finished; awaiting finish of 4 more threads\n",
      "2020-05-29 14:16:36,791 : INFO : worker thread finished; awaiting finish of 3 more threads\n",
      "2020-05-29 14:16:36,798 : INFO : worker thread finished; awaiting finish of 2 more threads\n",
      "2020-05-29 14:16:36,805 : INFO : worker thread finished; awaiting finish of 1 more threads\n",
      "2020-05-29 14:16:36,807 : INFO : worker thread finished; awaiting finish of 0 more threads\n",
      "2020-05-29 14:16:36,807 : INFO : EPOCH - 29 : training on 9227204 raw words (8222178 effective words) took 6.2s, 1316784 effective words/s\n",
      "2020-05-29 14:16:37,837 : INFO : EPOCH 30 - PROGRESS: at 13.47% examples, 1084087 words/s, in_qsize 15, out_qsize 0\n",
      "2020-05-29 14:16:38,851 : INFO : EPOCH 30 - PROGRESS: at 30.78% examples, 1244291 words/s, in_qsize 14, out_qsize 1\n",
      "2020-05-29 14:16:39,860 : INFO : EPOCH 30 - PROGRESS: at 46.89% examples, 1268519 words/s, in_qsize 13, out_qsize 2\n",
      "2020-05-29 14:16:40,862 : INFO : EPOCH 30 - PROGRESS: at 61.71% examples, 1256013 words/s, in_qsize 15, out_qsize 0\n",
      "2020-05-29 14:16:41,861 : INFO : EPOCH 30 - PROGRESS: at 78.29% examples, 1277121 words/s, in_qsize 14, out_qsize 1\n",
      "2020-05-29 14:16:42,863 : INFO : EPOCH 30 - PROGRESS: at 95.23% examples, 1295466 words/s, in_qsize 14, out_qsize 1\n",
      "2020-05-29 14:16:43,105 : INFO : worker thread finished; awaiting finish of 7 more threads\n",
      "2020-05-29 14:16:43,107 : INFO : worker thread finished; awaiting finish of 6 more threads\n",
      "2020-05-29 14:16:43,110 : INFO : worker thread finished; awaiting finish of 5 more threads\n",
      "2020-05-29 14:16:43,116 : INFO : worker thread finished; awaiting finish of 4 more threads\n",
      "2020-05-29 14:16:43,118 : INFO : worker thread finished; awaiting finish of 3 more threads\n",
      "2020-05-29 14:16:43,120 : INFO : worker thread finished; awaiting finish of 2 more threads\n",
      "2020-05-29 14:16:43,129 : INFO : worker thread finished; awaiting finish of 1 more threads\n",
      "2020-05-29 14:16:43,130 : INFO : worker thread finished; awaiting finish of 0 more threads\n",
      "2020-05-29 14:16:43,130 : INFO : EPOCH - 30 : training on 9227204 raw words (8223470 effective words) took 6.3s, 1302803 effective words/s\n",
      "2020-05-29 14:16:44,158 : INFO : EPOCH 31 - PROGRESS: at 17.03% examples, 1375426 words/s, in_qsize 15, out_qsize 0\n",
      "2020-05-29 14:16:45,164 : INFO : EPOCH 31 - PROGRESS: at 34.35% examples, 1396730 words/s, in_qsize 15, out_qsize 0\n",
      "2020-05-29 14:16:46,166 : INFO : EPOCH 31 - PROGRESS: at 52.07% examples, 1417004 words/s, in_qsize 15, out_qsize 0\n",
      "2020-05-29 14:16:47,178 : INFO : EPOCH 31 - PROGRESS: at 68.10% examples, 1388428 words/s, in_qsize 14, out_qsize 1\n",
      "2020-05-29 14:16:48,183 : INFO : EPOCH 31 - PROGRESS: at 84.48% examples, 1378325 words/s, in_qsize 15, out_qsize 0\n",
      "2020-05-29 14:16:49,076 : INFO : worker thread finished; awaiting finish of 7 more threads\n",
      "2020-05-29 14:16:49,080 : INFO : worker thread finished; awaiting finish of 6 more threads\n",
      "2020-05-29 14:16:49,081 : INFO : worker thread finished; awaiting finish of 5 more threads\n",
      "2020-05-29 14:16:49,083 : INFO : worker thread finished; awaiting finish of 4 more threads\n",
      "2020-05-29 14:16:49,091 : INFO : worker thread finished; awaiting finish of 3 more threads\n",
      "2020-05-29 14:16:49,095 : INFO : worker thread finished; awaiting finish of 2 more threads\n",
      "2020-05-29 14:16:49,102 : INFO : worker thread finished; awaiting finish of 1 more threads\n",
      "2020-05-29 14:16:49,104 : INFO : worker thread finished; awaiting finish of 0 more threads\n",
      "2020-05-29 14:16:49,105 : INFO : EPOCH - 31 : training on 9227204 raw words (8222479 effective words) took 6.0s, 1378841 effective words/s\n",
      "2020-05-29 14:16:50,124 : INFO : EPOCH 32 - PROGRESS: at 14.86% examples, 1211080 words/s, in_qsize 13, out_qsize 2\n",
      "2020-05-29 14:16:51,127 : INFO : EPOCH 32 - PROGRESS: at 30.13% examples, 1232334 words/s, in_qsize 15, out_qsize 0\n",
      "2020-05-29 14:16:52,138 : INFO : EPOCH 32 - PROGRESS: at 46.35% examples, 1261869 words/s, in_qsize 15, out_qsize 2\n",
      "2020-05-29 14:16:53,157 : INFO : EPOCH 32 - PROGRESS: at 63.97% examples, 1303141 words/s, in_qsize 15, out_qsize 3\n",
      "2020-05-29 14:16:54,160 : INFO : EPOCH 32 - PROGRESS: at 80.58% examples, 1314503 words/s, in_qsize 14, out_qsize 1\n",
      "2020-05-29 14:16:55,162 : INFO : EPOCH 32 - PROGRESS: at 97.18% examples, 1321761 words/s, in_qsize 12, out_qsize 3\n",
      "2020-05-29 14:16:55,275 : INFO : worker thread finished; awaiting finish of 7 more threads\n",
      "2020-05-29 14:16:55,280 : INFO : worker thread finished; awaiting finish of 6 more threads\n",
      "2020-05-29 14:16:55,283 : INFO : worker thread finished; awaiting finish of 5 more threads\n",
      "2020-05-29 14:16:55,284 : INFO : worker thread finished; awaiting finish of 4 more threads\n",
      "2020-05-29 14:16:55,285 : INFO : worker thread finished; awaiting finish of 3 more threads\n",
      "2020-05-29 14:16:55,298 : INFO : worker thread finished; awaiting finish of 2 more threads\n",
      "2020-05-29 14:16:55,299 : INFO : worker thread finished; awaiting finish of 1 more threads\n",
      "2020-05-29 14:16:55,301 : INFO : worker thread finished; awaiting finish of 0 more threads\n",
      "2020-05-29 14:16:55,301 : INFO : EPOCH - 32 : training on 9227204 raw words (8223995 effective words) took 6.2s, 1329805 effective words/s\n",
      "2020-05-29 14:16:55,301 : INFO : training on a 295270528 raw words (263120889 effective words) took 189.4s, 1389104 effective words/s\n"
     ]
    },
    {
     "name": "stdout",
     "output_type": "stream",
     "text": [
      "Wall time: 3min 9s\n"
     ]
    },
    {
     "data": {
      "text/plain": [
       "(263120889, 295270528)"
      ]
     },
     "execution_count": 18,
     "metadata": {},
     "output_type": "execute_result"
    }
   ],
   "source": [
    "%%time\n",
    "w2v_model.train(documents, total_examples=len(documents), epochs=W2V_EPOCH)"
   ]
  },
  {
   "cell_type": "code",
   "execution_count": 19,
   "metadata": {
    "_uuid": "27cc2651c74227115d8bfd8c40e5618048e05edd"
   },
   "outputs": [
    {
     "name": "stderr",
     "output_type": "stream",
     "text": [
      "C:\\Users\\user\\Documents\\repos\\azureml-tsa\\venv\\lib\\site-packages\\ipykernel_launcher.py:1: DeprecationWarning: Call to deprecated `most_similar` (Method will be removed in 4.0.0, use self.wv.most_similar() instead).\n",
      "  \"\"\"Entry point for launching an IPython kernel.\n",
      "2020-05-29 14:16:55,308 : INFO : precomputing L2-norms of word weight vectors\n"
     ]
    },
    {
     "data": {
      "text/plain": [
       "[('luv', 0.5805470943450928),\n",
       " ('loves', 0.5725414752960205),\n",
       " ('loved', 0.5434601306915283),\n",
       " ('adore', 0.5119100213050842),\n",
       " ('amazing', 0.5065314769744873),\n",
       " ('looove', 0.4951556622982025),\n",
       " ('awesome', 0.4635382294654846),\n",
       " ('loveee', 0.45208740234375),\n",
       " ('lovee', 0.44898825883865356),\n",
       " ('loooove', 0.436872273683548)]"
      ]
     },
     "execution_count": 19,
     "metadata": {},
     "output_type": "execute_result"
    }
   ],
   "source": [
    "w2v_model.most_similar(\"love\")"
   ]
  },
  {
   "cell_type": "markdown",
   "metadata": {
    "_uuid": "e13563644468037258598637b49373ca96b9b879"
   },
   "source": [
    "### Tokenize Text"
   ]
  },
  {
   "cell_type": "code",
   "execution_count": 20,
   "metadata": {
    "_uuid": "6852bc709a7cd20173cbeeb218505078f8f37c57"
   },
   "outputs": [
    {
     "name": "stdout",
     "output_type": "stream",
     "text": [
      "Total words 290419\n",
      "Wall time: 13.1 s\n"
     ]
    }
   ],
   "source": [
    "%%time\n",
    "tokenizer = Tokenizer()\n",
    "tokenizer.fit_on_texts(df_train.text)\n",
    "\n",
    "vocab_size = len(tokenizer.word_index) + 1\n",
    "print(\"Total words\", vocab_size)"
   ]
  },
  {
   "cell_type": "code",
   "execution_count": 21,
   "metadata": {
    "_uuid": "45de439df3015030c71f84c2d170346936a1d68f"
   },
   "outputs": [
    {
     "name": "stdout",
     "output_type": "stream",
     "text": [
      "Wall time: 19.2 s\n"
     ]
    }
   ],
   "source": [
    "%%time\n",
    "x_train = pad_sequences(tokenizer.texts_to_sequences(df_train.text), maxlen=SEQUENCE_LENGTH)\n",
    "x_test = pad_sequences(tokenizer.texts_to_sequences(df_test.text), maxlen=SEQUENCE_LENGTH)"
   ]
  },
  {
   "cell_type": "markdown",
   "metadata": {
    "_uuid": "03b35903fc6260e190d6928d240ef7432de117fc"
   },
   "source": [
    "### Label Encoder "
   ]
  },
  {
   "cell_type": "code",
   "execution_count": 22,
   "metadata": {
    "_uuid": "33676e0efa39e97d89bd650b8b4eae933a22fbf0"
   },
   "outputs": [
    {
     "data": {
      "text/plain": [
       "['POSITIVE', 'NEGATIVE', 'NEUTRAL']"
      ]
     },
     "execution_count": 22,
     "metadata": {},
     "output_type": "execute_result"
    }
   ],
   "source": [
    "labels = df_train.target.unique().tolist()\n",
    "labels.append(NEUTRAL)\n",
    "labels"
   ]
  },
  {
   "cell_type": "code",
   "execution_count": 23,
   "metadata": {
    "_uuid": "04239a9bef76e7922fd86098a5601dfde8ee4665"
   },
   "outputs": [
    {
     "name": "stdout",
     "output_type": "stream",
     "text": [
      "y_train (1280000, 1)\n",
      "y_test (320000, 1)\n"
     ]
    }
   ],
   "source": [
    "encoder = LabelEncoder()\n",
    "encoder.fit(df_train.target.tolist())\n",
    "\n",
    "y_train = encoder.transform(df_train.target.tolist())\n",
    "y_test = encoder.transform(df_test.target.tolist())\n",
    "\n",
    "y_train = y_train.reshape(-1,1)\n",
    "y_test = y_test.reshape(-1,1)\n",
    "\n",
    "print(\"y_train\",y_train.shape)\n",
    "print(\"y_test\",y_test.shape)"
   ]
  },
  {
   "cell_type": "code",
   "execution_count": 24,
   "metadata": {
    "_uuid": "04299c886911ca135583ab64878f213939a2990c"
   },
   "outputs": [
    {
     "name": "stdout",
     "output_type": "stream",
     "text": [
      "x_train (1280000, 300)\n",
      "y_train (1280000, 1)\n",
      "\n",
      "x_test (320000, 300)\n",
      "y_test (320000, 1)\n"
     ]
    }
   ],
   "source": [
    "print(\"x_train\", x_train.shape)\n",
    "print(\"y_train\", y_train.shape)\n",
    "print()\n",
    "print(\"x_test\", x_test.shape)\n",
    "print(\"y_test\", y_test.shape)"
   ]
  },
  {
   "cell_type": "code",
   "execution_count": 25,
   "metadata": {
    "_uuid": "232533fb27b7be99d9b8c2f8fb22c9c6bf121a6f"
   },
   "outputs": [
    {
     "data": {
      "text/plain": [
       "array([[1],\n",
       "       [1],\n",
       "       [1],\n",
       "       [0],\n",
       "       [1],\n",
       "       [1],\n",
       "       [1],\n",
       "       [1],\n",
       "       [1],\n",
       "       [1]], dtype=int64)"
      ]
     },
     "execution_count": 25,
     "metadata": {},
     "output_type": "execute_result"
    }
   ],
   "source": [
    "y_train[:10]"
   ]
  },
  {
   "cell_type": "markdown",
   "metadata": {
    "_uuid": "233c0ea94055a03e2e7df3e2a13d036ec963484f"
   },
   "source": [
    "### Embedding layer"
   ]
  },
  {
   "cell_type": "code",
   "execution_count": 26,
   "metadata": {
    "_uuid": "9ab488374b59e3f30f8b1ea92767d853c4846bac"
   },
   "outputs": [
    {
     "name": "stdout",
     "output_type": "stream",
     "text": [
      "(290419, 300)\n"
     ]
    }
   ],
   "source": [
    "embedding_matrix = np.zeros((vocab_size, W2V_SIZE))\n",
    "for word, i in tokenizer.word_index.items():\n",
    "  if word in w2v_model.wv:\n",
    "    embedding_matrix[i] = w2v_model.wv[word]\n",
    "print(embedding_matrix.shape)"
   ]
  },
  {
   "cell_type": "code",
   "execution_count": 27,
   "metadata": {
    "_uuid": "833279d91e4286065968237fb5f2a0c2dd4d246c"
   },
   "outputs": [],
   "source": [
    "embedding_layer = Embedding(vocab_size, W2V_SIZE, weights=[embedding_matrix], input_length=SEQUENCE_LENGTH, trainable=False)"
   ]
  },
  {
   "cell_type": "markdown",
   "metadata": {
    "_uuid": "b299ef78f94c2085942c993a2d58753a7476305a"
   },
   "source": [
    "### Build Model"
   ]
  },
  {
   "cell_type": "code",
   "execution_count": 28,
   "metadata": {
    "_uuid": "e775ef4f1b74e6412457181383c39f2df554ef3f"
   },
   "outputs": [
    {
     "name": "stdout",
     "output_type": "stream",
     "text": [
      "Model: \"sequential_1\"\n",
      "_________________________________________________________________\n",
      "Layer (type)                 Output Shape              Param #   \n",
      "=================================================================\n",
      "embedding_1 (Embedding)      (None, 300, 300)          87125700  \n",
      "_________________________________________________________________\n",
      "dropout_1 (Dropout)          (None, 300, 300)          0         \n",
      "_________________________________________________________________\n",
      "lstm_1 (LSTM)                (None, 100)               160400    \n",
      "_________________________________________________________________\n",
      "dense_1 (Dense)              (None, 1)                 101       \n",
      "=================================================================\n",
      "Total params: 87,286,201\n",
      "Trainable params: 160,501\n",
      "Non-trainable params: 87,125,700\n",
      "_________________________________________________________________\n"
     ]
    }
   ],
   "source": [
    "model = Sequential()\n",
    "model.add(embedding_layer)\n",
    "model.add(Dropout(0.5))\n",
    "model.add(LSTM(100, dropout=0.2, recurrent_dropout=0.2))\n",
    "model.add(Dense(1, activation='sigmoid'))\n",
    "\n",
    "model.summary()"
   ]
  },
  {
   "cell_type": "markdown",
   "metadata": {
    "_uuid": "28d22eafd0c7d798dcf3d742bc92fb8577939e6c"
   },
   "source": [
    "### Compile model"
   ]
  },
  {
   "cell_type": "code",
   "execution_count": 29,
   "metadata": {
    "_uuid": "1331e08d590bb2aa2033706c8faca217afc0f1c3"
   },
   "outputs": [],
   "source": [
    "model.compile(loss='binary_crossentropy',\n",
    "              optimizer=\"adam\",\n",
    "              metrics=['accuracy'])"
   ]
  },
  {
   "cell_type": "markdown",
   "metadata": {
    "_uuid": "c7733127cb8b380e0c807268903bf4d03ef92542"
   },
   "source": [
    "### Callbacks"
   ]
  },
  {
   "cell_type": "code",
   "execution_count": 30,
   "metadata": {
    "_uuid": "a688df590386f5748da6fe00b01904fe6c71619e"
   },
   "outputs": [],
   "source": [
    "callbacks = [ ReduceLROnPlateau(monitor='val_loss', patience=5, cooldown=0),\n",
    "              EarlyStopping(monitor='val_accuracy', min_delta=1e-4, patience=5)]"
   ]
  },
  {
   "cell_type": "markdown",
   "metadata": {
    "_uuid": "8d0873633dd49179c8cae17377641b97d323ef3b"
   },
   "source": [
    "### Train"
   ]
  },
  {
   "cell_type": "code",
   "execution_count": 31,
   "metadata": {
    "_uuid": "2b659d390c6577dc5cdb6b6297934279b4e801d5"
   },
   "outputs": [
    {
     "name": "stdout",
     "output_type": "stream",
     "text": [
      "Train on 1152000 samples, validate on 128000 samples\n",
      "Epoch 1/8\n",
      "1152000/1152000 [==============================] - 751s 652us/step - loss: 0.5067 - accuracy: 0.7486 - val_loss: 0.4636 - val_accuracy: 0.7804\n",
      "Epoch 2/8\n"
     ]
    },
    {
     "name": "stderr",
     "output_type": "stream",
     "text": [
      "C:\\Users\\user\\Documents\\repos\\azureml-tsa\\venv\\lib\\site-packages\\keras\\callbacks\\callbacks.py:846: RuntimeWarning: Early stopping conditioned on metric `val_acc` which is not available. Available metrics are: val_loss,val_accuracy,loss,accuracy,lr\n",
      "  (self.monitor, ','.join(list(logs.keys()))), RuntimeWarning\n"
     ]
    },
    {
     "name": "stdout",
     "output_type": "stream",
     "text": [
      "1152000/1152000 [==============================] - 781s 678us/step - loss: 0.4818 - accuracy: 0.7657 - val_loss: 0.4566 - val_accuracy: 0.7835\n",
      "Epoch 3/8\n",
      "1152000/1152000 [==============================] - 775s 672us/step - loss: 0.4750 - accuracy: 0.7701 - val_loss: 0.4513 - val_accuracy: 0.7871\n",
      "Epoch 4/8\n",
      "1152000/1152000 [==============================] - 747s 648us/step - loss: 0.4714 - accuracy: 0.7721 - val_loss: 0.4486 - val_accuracy: 0.7890\n",
      "Epoch 5/8\n",
      "1152000/1152000 [==============================] - 764s 663us/step - loss: 0.4687 - accuracy: 0.7735 - val_loss: 0.4485 - val_accuracy: 0.7894\n",
      "Epoch 6/8\n",
      "1152000/1152000 [==============================] - 774s 672us/step - loss: 0.4668 - accuracy: 0.7750 - val_loss: 0.4470 - val_accuracy: 0.7903\n",
      "Epoch 7/8\n",
      "1152000/1152000 [==============================] - 784s 680us/step - loss: 0.4659 - accuracy: 0.7757 - val_loss: 0.4454 - val_accuracy: 0.7904\n",
      "Epoch 8/8\n",
      "1152000/1152000 [==============================] - 768s 667us/step - loss: 0.4645 - accuracy: 0.7765 - val_loss: 0.4454 - val_accuracy: 0.7910\n",
      "Wall time: 1h 42min 24s\n"
     ]
    }
   ],
   "source": [
    "%%time\n",
    "history = model.fit(x_train, y_train,\n",
    "                    batch_size=BATCH_SIZE,\n",
    "                    epochs=EPOCHS,\n",
    "                    validation_split=0.1,\n",
    "                    verbose=1,\n",
    "                    callbacks=callbacks)"
   ]
  },
  {
   "cell_type": "markdown",
   "metadata": {
    "_uuid": "267258196d96796ac69a7b8c466314bcf5d6ee42"
   },
   "source": [
    "### Evaluate"
   ]
  },
  {
   "cell_type": "code",
   "execution_count": 32,
   "metadata": {
    "_uuid": "98ecd8f1b8b74594c3ea775dd68a094e92458022"
   },
   "outputs": [
    {
     "name": "stdout",
     "output_type": "stream",
     "text": [
      "320000/320000 [==============================] - 20s 63us/step\n",
      "\n",
      "ACCURACY: 0.7906937599182129\n",
      "LOSS: 0.4445266204357147\n",
      "Wall time: 20.2 s\n"
     ]
    }
   ],
   "source": [
    "%%time\n",
    "score = model.evaluate(x_test, y_test, batch_size=BATCH_SIZE)\n",
    "print()\n",
    "print(\"ACCURACY:\",score[1])\n",
    "print(\"LOSS:\",score[0])"
   ]
  },
  {
   "cell_type": "code",
   "execution_count": 34,
   "metadata": {
    "_uuid": "40c72cd1e9d6c4fd799cbba7c813765ac4039dfc"
   },
   "outputs": [
    {
     "data": {
      "image/png": "[encoded data removed]",
      "text/plain": [
       "<Figure size 432x288 with 1 Axes>"
      ]
     },
     "metadata": {
      "needs_background": "light"
     },
     "output_type": "display_data"
    },
    {
     "data": {
      "image/png": "[encoded data removed]",
      "text/plain": [
       "<Figure size 432x288 with 1 Axes>"
      ]
     },
     "metadata": {
      "needs_background": "light"
     },
     "output_type": "display_data"
    }
   ],
   "source": [
    "acc = history.history['accuracy']\n",
    "val_acc = history.history['val_accuracy']\n",
    "loss = history.history['loss']\n",
    "val_loss = history.history['val_loss']\n",
    " \n",
    "epochs = range(len(acc))\n",
    " \n",
    "plt.plot(epochs, acc, 'b', label='Training acc')\n",
    "plt.plot(epochs, val_acc, 'r', label='Validation acc')\n",
    "plt.title('Training and validation accuracy')\n",
    "plt.legend()\n",
    " \n",
    "plt.figure()\n",
    " \n",
    "plt.plot(epochs, loss, 'b', label='Training loss')\n",
    "plt.plot(epochs, val_loss, 'r', label='Validation loss')\n",
    "plt.title('Training and validation loss')\n",
    "plt.legend()\n",
    " \n",
    "plt.show()"
   ]
  },
  {
   "cell_type": "markdown",
   "metadata": {
    "_uuid": "6bdfc0f6a6af5bebc0271d83dd7432c91001409b"
   },
   "source": [
    "### Predict"
   ]
  },
  {
   "cell_type": "code",
   "execution_count": 35,
   "metadata": {
    "_uuid": "f0b0fa3d4b1bb14b3f5e3d169a369f3ebef29ae1"
   },
   "outputs": [],
   "source": [
    "def decode_sentiment(score, include_neutral=True):\n",
    "    if include_neutral:        \n",
    "        label = NEUTRAL\n",
    "        if score <= SENTIMENT_THRESHOLDS[0]:\n",
    "            label = NEGATIVE\n",
    "        elif score >= SENTIMENT_THRESHOLDS[1]:\n",
    "            label = POSITIVE\n",
    "\n",
    "        return label\n",
    "    else:\n",
    "        return NEGATIVE if score < 0.5 else POSITIVE"
   ]
  },
  {
   "cell_type": "code",
   "execution_count": 36,
   "metadata": {
    "_uuid": "ed4086d651f2f8cbed11d3c909a8873607d29a06"
   },
   "outputs": [],
   "source": [
    "def predict(text, include_neutral=True):\n",
    "    start_at = time.time()\n",
    "    # Tokenize text\n",
    "    x_test = pad_sequences(tokenizer.texts_to_sequences([text]), maxlen=SEQUENCE_LENGTH)\n",
    "    # Predict\n",
    "    score = model.predict([x_test])[0]\n",
    "    # Decode sentiment\n",
    "    label = decode_sentiment(score, include_neutral=include_neutral)\n",
    "\n",
    "    return {\"label\": label, \"score\": float(score),\n",
    "       \"elapsed_time\": time.time()-start_at}  "
   ]
  },
  {
   "cell_type": "code",
   "execution_count": null,
   "metadata": {
    "_uuid": "ca38b1e6c9b5acfed7467de2cf02a78333108872"
   },
   "outputs": [],
   "source": [
    "predict(\"I love the music\")"
   ]
  },
  {
   "cell_type": "code",
   "execution_count": null,
   "metadata": {
    "_uuid": "0e5fe647533be0148850de349fea6ef6f71303d1"
   },
   "outputs": [],
   "source": [
    "predict(\"I hate the rain\")"
   ]
  },
  {
   "cell_type": "code",
   "execution_count": null,
   "metadata": {
    "_uuid": "37064dffcc8920d34ccd54fac7c8b50e583a8269"
   },
   "outputs": [],
   "source": [
    "predict(\"i don't know what i'm doing\")"
   ]
  },
  {
   "cell_type": "markdown",
   "metadata": {
    "_uuid": "3ee72e47f84b6dbc32e02a783de5ec1661f157e1"
   },
   "source": [
    "### Confusion Matrix"
   ]
  },
  {
   "cell_type": "code",
   "execution_count": 37,
   "metadata": {
    "_uuid": "0e920173eb05f04aecdd735bc5dff0f5be5f8d15"
   },
   "outputs": [
    {
     "ename": "ResourceExhaustedError",
     "evalue": " OOM when allocating tensor with shape[8000,300,300] and type float on /job:localhost/replica:0/task:0/device:GPU:0 by allocator GPU_0_bfc\n\t [[node lstm_1/zeros_like (defined at C:\\Users\\user\\Documents\\repos\\azureml-tsa\\venv\\lib\\site-packages\\keras\\backend\\tensorflow_backend.py:3009) ]]\nHint: If you want to see a list of allocated tensors when OOM happens, add report_tensor_allocations_upon_oom to RunOptions for current allocation info.\n [Op:__inference_keras_scratch_graph_64439]\n\nFunction call stack:\nkeras_scratch_graph\n",
     "output_type": "error",
     "traceback": [
      "\u001b[1;31m---------------------------------------------------------------------------\u001b[0m",
      "\u001b[1;31mResourceExhaustedError\u001b[0m                    Traceback (most recent call last)",
      "\u001b[1;32m<timed exec>\u001b[0m in \u001b[0;36m<module>\u001b[1;34m\u001b[0m\n",
      "\u001b[1;32m~\\Documents\\repos\\azureml-tsa\\venv\\lib\\site-packages\\keras\\engine\\training.py\u001b[0m in \u001b[0;36mpredict\u001b[1;34m(self, x, batch_size, verbose, steps, callbacks, max_queue_size, workers, use_multiprocessing)\u001b[0m\n\u001b[0;32m   1460\u001b[0m                                             \u001b[0mverbose\u001b[0m\u001b[1;33m=\u001b[0m\u001b[0mverbose\u001b[0m\u001b[1;33m,\u001b[0m\u001b[1;33m\u001b[0m\u001b[1;33m\u001b[0m\u001b[0m\n\u001b[0;32m   1461\u001b[0m                                             \u001b[0msteps\u001b[0m\u001b[1;33m=\u001b[0m\u001b[0msteps\u001b[0m\u001b[1;33m,\u001b[0m\u001b[1;33m\u001b[0m\u001b[1;33m\u001b[0m\u001b[0m\n\u001b[1;32m-> 1462\u001b[1;33m                                             callbacks=callbacks)\n\u001b[0m\u001b[0;32m   1463\u001b[0m \u001b[1;33m\u001b[0m\u001b[0m\n\u001b[0;32m   1464\u001b[0m     def train_on_batch(self, x, y,\n",
      "\u001b[1;32m~\\Documents\\repos\\azureml-tsa\\venv\\lib\\site-packages\\keras\\engine\\training_arrays.py\u001b[0m in \u001b[0;36mpredict_loop\u001b[1;34m(model, f, ins, batch_size, verbose, steps, callbacks)\u001b[0m\n\u001b[0;32m    322\u001b[0m             \u001b[0mbatch_logs\u001b[0m \u001b[1;33m=\u001b[0m \u001b[1;33m{\u001b[0m\u001b[1;34m'batch'\u001b[0m\u001b[1;33m:\u001b[0m \u001b[0mbatch_index\u001b[0m\u001b[1;33m,\u001b[0m \u001b[1;34m'size'\u001b[0m\u001b[1;33m:\u001b[0m \u001b[0mlen\u001b[0m\u001b[1;33m(\u001b[0m\u001b[0mbatch_ids\u001b[0m\u001b[1;33m)\u001b[0m\u001b[1;33m}\u001b[0m\u001b[1;33m\u001b[0m\u001b[1;33m\u001b[0m\u001b[0m\n\u001b[0;32m    323\u001b[0m             \u001b[0mcallbacks\u001b[0m\u001b[1;33m.\u001b[0m\u001b[0m_call_batch_hook\u001b[0m\u001b[1;33m(\u001b[0m\u001b[1;34m'predict'\u001b[0m\u001b[1;33m,\u001b[0m \u001b[1;34m'begin'\u001b[0m\u001b[1;33m,\u001b[0m \u001b[0mbatch_index\u001b[0m\u001b[1;33m,\u001b[0m \u001b[0mbatch_logs\u001b[0m\u001b[1;33m)\u001b[0m\u001b[1;33m\u001b[0m\u001b[1;33m\u001b[0m\u001b[0m\n\u001b[1;32m--> 324\u001b[1;33m             \u001b[0mbatch_outs\u001b[0m \u001b[1;33m=\u001b[0m \u001b[0mf\u001b[0m\u001b[1;33m(\u001b[0m\u001b[0mins_batch\u001b[0m\u001b[1;33m)\u001b[0m\u001b[1;33m\u001b[0m\u001b[1;33m\u001b[0m\u001b[0m\n\u001b[0m\u001b[0;32m    325\u001b[0m             \u001b[0mbatch_outs\u001b[0m \u001b[1;33m=\u001b[0m \u001b[0mto_list\u001b[0m\u001b[1;33m(\u001b[0m\u001b[0mbatch_outs\u001b[0m\u001b[1;33m)\u001b[0m\u001b[1;33m\u001b[0m\u001b[1;33m\u001b[0m\u001b[0m\n\u001b[0;32m    326\u001b[0m             \u001b[1;32mif\u001b[0m \u001b[0mbatch_index\u001b[0m \u001b[1;33m==\u001b[0m \u001b[1;36m0\u001b[0m\u001b[1;33m:\u001b[0m\u001b[1;33m\u001b[0m\u001b[1;33m\u001b[0m\u001b[0m\n",
      "\u001b[1;32m~\\Documents\\repos\\azureml-tsa\\venv\\lib\\site-packages\\tensorflow\\python\\keras\\backend.py\u001b[0m in \u001b[0;36m__call__\u001b[1;34m(self, inputs)\u001b[0m\n\u001b[0;32m   3790\u001b[0m         \u001b[0mvalue\u001b[0m \u001b[1;33m=\u001b[0m \u001b[0mmath_ops\u001b[0m\u001b[1;33m.\u001b[0m\u001b[0mcast\u001b[0m\u001b[1;33m(\u001b[0m\u001b[0mvalue\u001b[0m\u001b[1;33m,\u001b[0m \u001b[0mtensor\u001b[0m\u001b[1;33m.\u001b[0m\u001b[0mdtype\u001b[0m\u001b[1;33m)\u001b[0m\u001b[1;33m\u001b[0m\u001b[1;33m\u001b[0m\u001b[0m\n\u001b[0;32m   3791\u001b[0m       \u001b[0mconverted_inputs\u001b[0m\u001b[1;33m.\u001b[0m\u001b[0mappend\u001b[0m\u001b[1;33m(\u001b[0m\u001b[0mvalue\u001b[0m\u001b[1;33m)\u001b[0m\u001b[1;33m\u001b[0m\u001b[1;33m\u001b[0m\u001b[0m\n\u001b[1;32m-> 3792\u001b[1;33m     \u001b[0moutputs\u001b[0m \u001b[1;33m=\u001b[0m \u001b[0mself\u001b[0m\u001b[1;33m.\u001b[0m\u001b[0m_graph_fn\u001b[0m\u001b[1;33m(\u001b[0m\u001b[1;33m*\u001b[0m\u001b[0mconverted_inputs\u001b[0m\u001b[1;33m)\u001b[0m\u001b[1;33m\u001b[0m\u001b[1;33m\u001b[0m\u001b[0m\n\u001b[0m\u001b[0;32m   3793\u001b[0m \u001b[1;33m\u001b[0m\u001b[0m\n\u001b[0;32m   3794\u001b[0m     \u001b[1;31m# EagerTensor.numpy() will often make a copy to ensure memory safety.\u001b[0m\u001b[1;33m\u001b[0m\u001b[1;33m\u001b[0m\u001b[1;33m\u001b[0m\u001b[0m\n",
      "\u001b[1;32m~\\Documents\\repos\\azureml-tsa\\venv\\lib\\site-packages\\tensorflow\\python\\eager\\function.py\u001b[0m in \u001b[0;36m__call__\u001b[1;34m(self, *args, **kwargs)\u001b[0m\n\u001b[0;32m   1603\u001b[0m       \u001b[0mTypeError\u001b[0m\u001b[1;33m:\u001b[0m \u001b[0mFor\u001b[0m \u001b[0minvalid\u001b[0m \u001b[0mpositional\u001b[0m\u001b[1;33m/\u001b[0m\u001b[0mkeyword\u001b[0m \u001b[0margument\u001b[0m \u001b[0mcombinations\u001b[0m\u001b[1;33m.\u001b[0m\u001b[1;33m\u001b[0m\u001b[1;33m\u001b[0m\u001b[0m\n\u001b[0;32m   1604\u001b[0m     \"\"\"\n\u001b[1;32m-> 1605\u001b[1;33m     \u001b[1;32mreturn\u001b[0m \u001b[0mself\u001b[0m\u001b[1;33m.\u001b[0m\u001b[0m_call_impl\u001b[0m\u001b[1;33m(\u001b[0m\u001b[0margs\u001b[0m\u001b[1;33m,\u001b[0m \u001b[0mkwargs\u001b[0m\u001b[1;33m)\u001b[0m\u001b[1;33m\u001b[0m\u001b[1;33m\u001b[0m\u001b[0m\n\u001b[0m\u001b[0;32m   1606\u001b[0m \u001b[1;33m\u001b[0m\u001b[0m\n\u001b[0;32m   1607\u001b[0m   \u001b[1;32mdef\u001b[0m \u001b[0m_call_impl\u001b[0m\u001b[1;33m(\u001b[0m\u001b[0mself\u001b[0m\u001b[1;33m,\u001b[0m \u001b[0margs\u001b[0m\u001b[1;33m,\u001b[0m \u001b[0mkwargs\u001b[0m\u001b[1;33m,\u001b[0m \u001b[0mcancellation_manager\u001b[0m\u001b[1;33m=\u001b[0m\u001b[1;32mNone\u001b[0m\u001b[1;33m)\u001b[0m\u001b[1;33m:\u001b[0m\u001b[1;33m\u001b[0m\u001b[1;33m\u001b[0m\u001b[0m\n",
      "\u001b[1;32m~\\Documents\\repos\\azureml-tsa\\venv\\lib\\site-packages\\tensorflow\\python\\eager\\function.py\u001b[0m in \u001b[0;36m_call_impl\u001b[1;34m(self, args, kwargs, cancellation_manager)\u001b[0m\n\u001b[0;32m   1643\u001b[0m       raise TypeError(\"Keyword arguments {} unknown. Expected {}.\".format(\n\u001b[0;32m   1644\u001b[0m           list(kwargs.keys()), list(self._arg_keywords)))\n\u001b[1;32m-> 1645\u001b[1;33m     \u001b[1;32mreturn\u001b[0m \u001b[0mself\u001b[0m\u001b[1;33m.\u001b[0m\u001b[0m_call_flat\u001b[0m\u001b[1;33m(\u001b[0m\u001b[0margs\u001b[0m\u001b[1;33m,\u001b[0m \u001b[0mself\u001b[0m\u001b[1;33m.\u001b[0m\u001b[0mcaptured_inputs\u001b[0m\u001b[1;33m,\u001b[0m \u001b[0mcancellation_manager\u001b[0m\u001b[1;33m)\u001b[0m\u001b[1;33m\u001b[0m\u001b[1;33m\u001b[0m\u001b[0m\n\u001b[0m\u001b[0;32m   1646\u001b[0m \u001b[1;33m\u001b[0m\u001b[0m\n\u001b[0;32m   1647\u001b[0m   \u001b[1;32mdef\u001b[0m \u001b[0m_filtered_call\u001b[0m\u001b[1;33m(\u001b[0m\u001b[0mself\u001b[0m\u001b[1;33m,\u001b[0m \u001b[0margs\u001b[0m\u001b[1;33m,\u001b[0m \u001b[0mkwargs\u001b[0m\u001b[1;33m)\u001b[0m\u001b[1;33m:\u001b[0m\u001b[1;33m\u001b[0m\u001b[1;33m\u001b[0m\u001b[0m\n",
      "\u001b[1;32m~\\Documents\\repos\\azureml-tsa\\venv\\lib\\site-packages\\tensorflow\\python\\eager\\function.py\u001b[0m in \u001b[0;36m_call_flat\u001b[1;34m(self, args, captured_inputs, cancellation_manager)\u001b[0m\n\u001b[0;32m   1744\u001b[0m       \u001b[1;31m# No tape is watching; skip to running the function.\u001b[0m\u001b[1;33m\u001b[0m\u001b[1;33m\u001b[0m\u001b[1;33m\u001b[0m\u001b[0m\n\u001b[0;32m   1745\u001b[0m       return self._build_call_outputs(self._inference_function.call(\n\u001b[1;32m-> 1746\u001b[1;33m           ctx, args, cancellation_manager=cancellation_manager))\n\u001b[0m\u001b[0;32m   1747\u001b[0m     forward_backward = self._select_forward_and_backward_functions(\n\u001b[0;32m   1748\u001b[0m         \u001b[0margs\u001b[0m\u001b[1;33m,\u001b[0m\u001b[1;33m\u001b[0m\u001b[1;33m\u001b[0m\u001b[0m\n",
      "\u001b[1;32m~\\Documents\\repos\\azureml-tsa\\venv\\lib\\site-packages\\tensorflow\\python\\eager\\function.py\u001b[0m in \u001b[0;36mcall\u001b[1;34m(self, ctx, args, cancellation_manager)\u001b[0m\n\u001b[0;32m    596\u001b[0m               \u001b[0minputs\u001b[0m\u001b[1;33m=\u001b[0m\u001b[0margs\u001b[0m\u001b[1;33m,\u001b[0m\u001b[1;33m\u001b[0m\u001b[1;33m\u001b[0m\u001b[0m\n\u001b[0;32m    597\u001b[0m               \u001b[0mattrs\u001b[0m\u001b[1;33m=\u001b[0m\u001b[0mattrs\u001b[0m\u001b[1;33m,\u001b[0m\u001b[1;33m\u001b[0m\u001b[1;33m\u001b[0m\u001b[0m\n\u001b[1;32m--> 598\u001b[1;33m               ctx=ctx)\n\u001b[0m\u001b[0;32m    599\u001b[0m         \u001b[1;32melse\u001b[0m\u001b[1;33m:\u001b[0m\u001b[1;33m\u001b[0m\u001b[1;33m\u001b[0m\u001b[0m\n\u001b[0;32m    600\u001b[0m           outputs = execute.execute_with_cancellation(\n",
      "\u001b[1;32m~\\Documents\\repos\\azureml-tsa\\venv\\lib\\site-packages\\tensorflow\\python\\eager\\execute.py\u001b[0m in \u001b[0;36mquick_execute\u001b[1;34m(op_name, num_outputs, inputs, attrs, ctx, name)\u001b[0m\n\u001b[0;32m     58\u001b[0m     \u001b[0mctx\u001b[0m\u001b[1;33m.\u001b[0m\u001b[0mensure_initialized\u001b[0m\u001b[1;33m(\u001b[0m\u001b[1;33m)\u001b[0m\u001b[1;33m\u001b[0m\u001b[1;33m\u001b[0m\u001b[0m\n\u001b[0;32m     59\u001b[0m     tensors = pywrap_tfe.TFE_Py_Execute(ctx._handle, device_name, op_name,\n\u001b[1;32m---> 60\u001b[1;33m                                         inputs, attrs, num_outputs)\n\u001b[0m\u001b[0;32m     61\u001b[0m   \u001b[1;32mexcept\u001b[0m \u001b[0mcore\u001b[0m\u001b[1;33m.\u001b[0m\u001b[0m_NotOkStatusException\u001b[0m \u001b[1;32mas\u001b[0m \u001b[0me\u001b[0m\u001b[1;33m:\u001b[0m\u001b[1;33m\u001b[0m\u001b[1;33m\u001b[0m\u001b[0m\n\u001b[0;32m     62\u001b[0m     \u001b[1;32mif\u001b[0m \u001b[0mname\u001b[0m \u001b[1;32mis\u001b[0m \u001b[1;32mnot\u001b[0m \u001b[1;32mNone\u001b[0m\u001b[1;33m:\u001b[0m\u001b[1;33m\u001b[0m\u001b[1;33m\u001b[0m\u001b[0m\n",
      "\u001b[1;31mResourceExhaustedError\u001b[0m:  OOM when allocating tensor with shape[8000,300,300] and type float on /job:localhost/replica:0/task:0/device:GPU:0 by allocator GPU_0_bfc\n\t [[node lstm_1/zeros_like (defined at C:\\Users\\user\\Documents\\repos\\azureml-tsa\\venv\\lib\\site-packages\\keras\\backend\\tensorflow_backend.py:3009) ]]\nHint: If you want to see a list of allocated tensors when OOM happens, add report_tensor_allocations_upon_oom to RunOptions for current allocation info.\n [Op:__inference_keras_scratch_graph_64439]\n\nFunction call stack:\nkeras_scratch_graph\n"
     ]
    }
   ],
   "source": [
    "%%time\n",
    "y_pred_1d = []\n",
    "y_test_1d = list(df_test.target)\n",
    "scores = model.predict(x_test, verbose=1, batch_size=8000)\n",
    "y_pred_1d = [decode_sentiment(score, include_neutral=False) for score in scores]"
   ]
  },
  {
   "cell_type": "code",
   "execution_count": null,
   "metadata": {
    "_uuid": "b3575191bb425ab871f3f41e83812ee84bb7e595"
   },
   "outputs": [],
   "source": [
    "def plot_confusion_matrix(cm, classes,\n",
    "                          title='Confusion matrix',\n",
    "                          cmap=plt.cm.Blues):\n",
    "    \"\"\"\n",
    "    This function prints and plots the confusion matrix.\n",
    "    Normalization can be applied by setting `normalize=True`.\n",
    "    \"\"\"\n",
    "\n",
    "    cm = cm.astype('float') / cm.sum(axis=1)[:, np.newaxis]\n",
    "\n",
    "    plt.imshow(cm, interpolation='nearest', cmap=cmap)\n",
    "    plt.title(title, fontsize=30)\n",
    "    plt.colorbar()\n",
    "    tick_marks = np.arange(len(classes))\n",
    "    plt.xticks(tick_marks, classes, rotation=90, fontsize=22)\n",
    "    plt.yticks(tick_marks, classes, fontsize=22)\n",
    "\n",
    "    fmt = '.2f'\n",
    "    thresh = cm.max() / 2.\n",
    "    for i, j in itertools.product(range(cm.shape[0]), range(cm.shape[1])):\n",
    "        plt.text(j, i, format(cm[i, j], fmt),\n",
    "                 horizontalalignment=\"center\",\n",
    "                 color=\"white\" if cm[i, j] > thresh else \"black\")\n",
    "\n",
    "    plt.ylabel('True label', fontsize=25)\n",
    "    plt.xlabel('Predicted label', fontsize=25)"
   ]
  },
  {
   "cell_type": "code",
   "execution_count": null,
   "metadata": {
    "_uuid": "a57dc6f6211c144491a70f533225edfa95a2dc66"
   },
   "outputs": [],
   "source": [
    "%%time\n",
    "\n",
    "cnf_matrix = confusion_matrix(y_test_1d, y_pred_1d)\n",
    "plt.figure(figsize=(12,12))\n",
    "plot_confusion_matrix(cnf_matrix, classes=df_train.target.unique(), title=\"Confusion matrix\")\n",
    "plt.show()"
   ]
  },
  {
   "cell_type": "markdown",
   "metadata": {
    "_uuid": "e23b957348dcc084249d3cc7538b972da471c2cd"
   },
   "source": [
    "### Classification Report"
   ]
  },
  {
   "cell_type": "code",
   "execution_count": null,
   "metadata": {
    "_uuid": "a7fe05b7caa1c984ff1deb0be2f7c6bc043df9f5"
   },
   "outputs": [],
   "source": [
    "print(classification_report(y_test_1d, y_pred_1d))"
   ]
  },
  {
   "cell_type": "markdown",
   "metadata": {
    "_uuid": "4eb300f0c6693a618587c7dcf32f77f5416cbfb9"
   },
   "source": [
    "### Accuracy Score"
   ]
  },
  {
   "cell_type": "code",
   "execution_count": null,
   "metadata": {
    "_uuid": "5cf76e6e09f8a60ed25947932b94c772eda44d23"
   },
   "outputs": [],
   "source": [
    "accuracy_score(y_test_1d, y_pred_1d)"
   ]
  },
  {
   "cell_type": "markdown",
   "metadata": {
    "_uuid": "4f014c32f3833db282e1a075c526604f34e3158c"
   },
   "source": [
    "### Save model"
   ]
  },
  {
   "cell_type": "code",
   "execution_count": 38,
   "metadata": {
    "_uuid": "3b2b3ad5b592977b404acfa1c9ad303a62837255"
   },
   "outputs": [
    {
     "name": "stderr",
     "output_type": "stream",
     "text": [
      "2020-05-29 16:02:46,529 : INFO : saving Word2Vec object under model.w2v, separately None\n",
      "2020-05-29 16:02:46,530 : INFO : not storing attribute vectors_norm\n",
      "2020-05-29 16:02:46,530 : INFO : not storing attribute cum_table\n",
      "2020-05-29 16:02:47,426 : INFO : saved model.w2v\n"
     ]
    }
   ],
   "source": [
    "model.save(KERAS_MODEL)\n",
    "w2v_model.save(WORD2VEC_MODEL)\n",
    "pickle.dump(tokenizer, open(TOKENIZER_MODEL, \"wb\"), protocol=0)\n",
    "pickle.dump(encoder, open(ENCODER_MODEL, \"wb\"), protocol=0)"
   ]
  },
  {
   "cell_type": "code",
   "execution_count": null,
   "metadata": {
    "_uuid": "cc363c54782894757f5ea8820c6a170f2e16ef93"
   },
   "outputs": [],
   "source": []
  }
 ],
 "metadata": {
  "kernelspec": {
   "display_name": "venv",
   "language": "python",
   "name": "venv"
  },
  "language_info": {
   "codemirror_mode": {
    "name": "ipython",
    "version": 3
   },
   "file_extension": ".py",
   "mimetype": "text/x-python",
   "name": "python",
   "nbconvert_exporter": "python",
   "pygments_lexer": "ipython3",
   "version": "3.7.7"
  }
 },
 "nbformat": 4,
 "nbformat_minor": 1
}
